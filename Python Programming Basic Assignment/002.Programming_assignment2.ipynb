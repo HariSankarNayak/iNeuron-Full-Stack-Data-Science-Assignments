{
 "cells": [
  {
   "cell_type": "markdown",
   "metadata": {},
   "source": [
    "### 1. Write a Python program to convert kilometers to miles?"
   ]
  },
  {
   "cell_type": "code",
   "execution_count": 1,
   "metadata": {},
   "outputs": [
    {
     "name": "stdout",
     "output_type": "stream",
     "text": [
      "Distance of(37.0)in miles: 22.99\n"
     ]
    }
   ],
   "source": [
    "# killometers to miles\n",
    "\n",
    "def km_to_miles(km):\n",
    "    miles = km * 0.621371\n",
    "    return round(miles, 2)\n",
    "\n",
    "\n",
    "dist_in_km = float(input(\"Enter distance in kilometers: \"))\n",
    "\n",
    "print(\"Distance of({})in miles:\".format(dist_in_km), km_to_miles(dist_in_km))\n"
   ]
  },
  {
   "cell_type": "markdown",
   "metadata": {},
   "source": [
    "### 2. Write a Python program to convert Celsius to Fahrenheit?"
   ]
  },
  {
   "cell_type": "code",
   "execution_count": 2,
   "metadata": {},
   "outputs": [
    {
     "name": "stdout",
     "output_type": "stream",
     "text": [
      "Temperature of(37.0) in Fahrenheit: 98.6\n"
     ]
    }
   ],
   "source": [
    "#  Celcious to Fahrenheit\n",
    "\n",
    "def celcious_to_fahrenheit(celcious):\n",
    "    fahrenheit = (celcious * (9/5)) + 32\n",
    "    return round(fahrenheit, 2)\n",
    "\n",
    "temp_in_degree = float(input(\"Enter the temperature in degree Celcious: \"))\n",
    "\n",
    "print(\"Temperature of({}) in Fahrenheit:\".format(temp_in_degree), celcious_to_fahrenheit(temp_in_degree))"
   ]
  },
  {
   "cell_type": "markdown",
   "metadata": {},
   "source": [
    "### 4. Write a Python program to solve quadratic equation?"
   ]
  },
  {
   "cell_type": "code",
   "execution_count": 3,
   "metadata": {},
   "outputs": [
    {
     "name": "stdout",
     "output_type": "stream",
     "text": [
      "Quadratic equation: ax^2 + bx + c = 0\n",
      "The roots of the equation are: -0.2 -1.0\n"
     ]
    }
   ],
   "source": [
    "#  Quadratic Equation\n",
    "# Foormula for quadratic equation: ax^2 + bx + c = 0\n",
    "\n",
    "print(\"Quadratic equation: ax^2 + bx + c = 0\")\n",
    "a=int(input(\"Enter a: \"))\n",
    "b=int(input(\"Enter b: \"))\n",
    "c=int(input(\"Enter c: \"))\n",
    "\n",
    "\n",
    "def quadratic_eq_formula(a, b, c):\n",
    "    if a == 0:\n",
    "        print(\"The equation is not quadratic\")\n",
    "    else:\n",
    "        x1 = (-b + (b**2 - 4*a*c)**0.5)/(2*a)\n",
    "        x2 = (-b - (b**2 - 4*a*c)**0.5)/(2*a)\n",
    "        print(\"The roots of the equation are:\", x1, x2)\n",
    "        \n",
    "quadratic_eq_formula(a, b, c)"
   ]
  },
  {
   "cell_type": "markdown",
   "metadata": {},
   "source": [
    "### 5. Write a Python program to swap two variables without temp variable?"
   ]
  },
  {
   "cell_type": "code",
   "execution_count": 4,
   "metadata": {},
   "outputs": [
    {
     "name": "stdout",
     "output_type": "stream",
     "text": [
      "Before swapping:  dasd 3\n",
      "After swapping:  3 dasd\n"
     ]
    }
   ],
   "source": [
    "# Swap without third variable not number\n",
    "\n",
    "x=input(\"Enter first variable: \")\n",
    "y=input(\"Enter second variable: \")\n",
    "\n",
    "def swap_two(x, y):\n",
    "    print(\"Before swapping: \", x, y)\n",
    "    x,y=y,x\n",
    "    print(\"After swapping: \", x, y)\n",
    "    \n",
    "    \n",
    "swap_two(x, y)"
   ]
  }
 ],
 "metadata": {
  "interpreter": {
   "hash": "31f2aee4e71d21fbe5cf8b01ff0e069b9275f58929596ceb00d14d90e3e16cd6"
  },
  "kernelspec": {
   "display_name": "Python 3.6.9 64-bit",
   "language": "python",
   "name": "python3"
  },
  "language_info": {
   "codemirror_mode": {
    "name": "ipython",
    "version": 3
   },
   "file_extension": ".py",
   "mimetype": "text/x-python",
   "name": "python",
   "nbconvert_exporter": "python",
   "pygments_lexer": "ipython3",
   "version": "3.6.9"
  },
  "orig_nbformat": 4
 },
 "nbformat": 4,
 "nbformat_minor": 2
}
