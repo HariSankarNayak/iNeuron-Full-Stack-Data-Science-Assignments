{
 "cells": [
  {
   "cell_type": "markdown",
   "id": "9e1733f2",
   "metadata": {},
   "source": [
    "## Basic Programming Assignment-5"
   ]
  },
  {
   "cell_type": "markdown",
   "id": "901748b2",
   "metadata": {},
   "source": [
    "#### 1. Write a Python Program to find LCM ?"
   ]
  },
  {
   "cell_type": "code",
   "execution_count": 2,
   "id": "91140999",
   "metadata": {},
   "outputs": [
    {
     "name": "stdout",
     "output_type": "stream",
     "text": [
      "The LCM of 13,17 is 221\n"
     ]
    }
   ],
   "source": [
    "#  LCM of two numbers\n",
    "def lcm_of_two(a,b):\n",
    "    if a > b:\n",
    "        big = a\n",
    "    else:\n",
    "        big = b\n",
    "    while True:\n",
    "        if((big%a == 0) and (big%b == 0)):\n",
    "            lcm = big\n",
    "            break\n",
    "        else:\n",
    "            big +=1\n",
    "    print(f'The LCM of {a},{b} is {lcm}')\n",
    "\n",
    "a= int(input('Enter first number: '))\n",
    "b= int(input('Enter second number: '))\n",
    "lcm_of_two(a,b)"
   ]
  },
  {
   "cell_type": "markdown",
   "id": "5998fa74",
   "metadata": {},
   "source": [
    "#### 2. Write a Python Program to find HCF ?"
   ]
  },
  {
   "cell_type": "code",
   "execution_count": 6,
   "id": "352d08d9",
   "metadata": {},
   "outputs": [
    {
     "name": "stdout",
     "output_type": "stream",
     "text": [
      "The HCF of 18,422 is 2\n"
     ]
    }
   ],
   "source": [
    "#  HCF of twp numbers\n",
    "\n",
    "def hcf_of_two(a,b):\n",
    "    if a>b:\n",
    "        smaller = b\n",
    "    else:\n",
    "        smaller = a\n",
    "    for i in range(1,smaller+1):\n",
    "        if((a%i == 0) and (b%i == 0)):\n",
    "            hcf = i\n",
    "    print(f'The HCF of {a},{b} is {hcf}')\n",
    "\n",
    "\n",
    "a= int(input('Enter first number: '))\n",
    "b= int(input('Enter second number: '))\n",
    "hcf_of_two(a,b)"
   ]
  },
  {
   "cell_type": "markdown",
   "id": "f29f8214",
   "metadata": {},
   "source": [
    "#### 3. Write a Python Program to Convert Decimal to Binary, Octal and Hexadecimal ?"
   ]
  },
  {
   "cell_type": "code",
   "execution_count": 8,
   "id": "53212645",
   "metadata": {},
   "outputs": [
    {
     "name": "stdout",
     "output_type": "stream",
     "text": [
      "Binary Form of 234342 is : 0b111001001101100110\n",
      "Octal Form of 234342 is : 0o711546\n",
      "Hexadecimal Form of 234342 is : 0x39366\n"
     ]
    }
   ],
   "source": [
    "# decimal to Binary, Octal and Hexadecimal conversion\n",
    "def dec_to_Bin_Oct_Hex(num):\n",
    "    print(f'Binary Form of {num} is : {bin(num)}')\n",
    "    print(f'Octal Form of {num} is : {oct(num)}')    \n",
    "    print(f'Hexadecimal Form of {num} is : {hex(num)}')    \n",
    "\n",
    "num = int(input('Enter a Number: '))\n",
    "dec_to_Bin_Oct_Hex(num)"
   ]
  },
  {
   "cell_type": "markdown",
   "id": "1a4ed424",
   "metadata": {},
   "source": [
    "#### 4. Write a Python Program to Find the ASCII value of  a Character ?"
   ]
  },
  {
   "cell_type": "code",
   "execution_count": 9,
   "id": "8173265f",
   "metadata": {},
   "outputs": [
    {
     "name": "stdout",
     "output_type": "stream",
     "text": [
      "The ASCII value of a is 97\n"
     ]
    }
   ],
   "source": [
    "#  ASCII of a character\n",
    "\n",
    "\n",
    "def char_ascii_value(chhrr):\n",
    "    return ord(chhrr)\n",
    "\n",
    "entered_char = input(\"Enter a character: \")\n",
    "\n",
    "print(f\"The ASCII value of {entered_char} is {char_ascii_value(entered_char)}\")"
   ]
  },
  {
   "cell_type": "markdown",
   "id": "e9f467f1",
   "metadata": {},
   "source": [
    "#### 5. Write a Python Program to Make a Simple Calculator with 4 Basic Mathematical operations ?"
   ]
  },
  {
   "cell_type": "code",
   "execution_count": null,
   "id": "d1572ffa",
   "metadata": {},
   "outputs": [],
   "source": [
    "from operator import add, sub, mul, truediv\n",
    "\n",
    "operations = { \"+\": add, \"-\": sub, \"*\":mul, \"/\":truediv } \n",
    "\n",
    "print('Select a Arithmetic Operation: \\n 1. Addition(+) \\n 2. Subtraction(-) \\n 3. Multiplication(*) \\n 4. Division(/) \\n 5. Exit(other)')\n",
    "   \n",
    "\n",
    "while True:\n",
    "    option = input('Enter a arithmetic operation -> ')\n",
    "    if option == '0':\n",
    "        print(\"Program Stopped successfully\")\n",
    "        break\n",
    "    elif option not in ['+','-','*','/']:\n",
    "        print(\"Please enter a valid option\")\n",
    "        break\n",
    "    else:\n",
    "        in1 = int(input('\\nEnter 1st Number: '))\n",
    "        in2 = int(input('\\nEnter 2nd Number: '))\n",
    "        print('{}{}{}={}\\n'.format(in1, option, in2, operations[option](in1,in2)))"
   ]
  }
 ],
 "metadata": {
  "kernelspec": {
   "display_name": "Python 3",
   "language": "python",
   "name": "python3"
  },
  "language_info": {
   "codemirror_mode": {
    "name": "ipython",
    "version": 3
   },
   "file_extension": ".py",
   "mimetype": "text/x-python",
   "name": "python",
   "nbconvert_exporter": "python",
   "pygments_lexer": "ipython3",
   "version": "3.6.9"
  }
 },
 "nbformat": 4,
 "nbformat_minor": 5
}
