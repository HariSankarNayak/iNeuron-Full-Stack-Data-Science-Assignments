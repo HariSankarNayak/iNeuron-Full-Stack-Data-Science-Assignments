{
 "cells": [
  {
   "cell_type": "markdown",
   "metadata": {},
   "source": [
    "## Basic Programming Assignment-1"
   ]
  },
  {
   "cell_type": "markdown",
   "metadata": {},
   "source": [
    "### Q.1 Write a Python program to print \"Hello Python\"?"
   ]
  },
  {
   "cell_type": "code",
   "execution_count": null,
   "metadata": {},
   "outputs": [],
   "source": [
    "print(\"Hello Python\") # Prints \"Hello Python\""
   ]
  },
  {
   "cell_type": "markdown",
   "metadata": {},
   "source": [
    "### 2.Write a Python program to do arithmetic operations addition and division ?"
   ]
  },
  {
   "cell_type": "code",
   "execution_count": null,
   "metadata": {},
   "outputs": [],
   "source": [
    "from operator import add, sub, mul, truediv\n",
    "\n",
    "operations = { \"+\": add, \"-\": sub, \"*\":mul, \"/\":truediv } \n",
    "\n",
    "print('Select a Arithmetic Operation: \\n 1. Addition(+) \\n 2. Subtraction(-) \\n 3. Multiplication(*) \\n 4. Division(/) \\n 5. Exit(other)')\n",
    "   \n",
    "\n",
    "while True:\n",
    "    option = input('Enter a arithmetic operation -> ')\n",
    "    if option == '0':\n",
    "        print(\"Program Stopped successfully\")\n",
    "        break\n",
    "    elif option not in ['+','-','*','/']:\n",
    "        print(\"Please enter a valid option\")\n",
    "        break\n",
    "    else:\n",
    "        in1 = int(input('\\nEnter 1st Number: '))\n",
    "        in2 = int(input('\\nEnter 2nd Number: '))\n",
    "        print('{}{}{}={}\\n'.format(in1, option, in2, operations[option](in1,in2)))"
   ]
  },
  {
   "cell_type": "markdown",
   "metadata": {},
   "source": [
    "### 3.Write a Python program to find the area of a triangle ?"
   ]
  },
  {
   "cell_type": "code",
   "execution_count": null,
   "metadata": {},
   "outputs": [],
   "source": [
    "from email.mime import base\n",
    "\n",
    "\n",
    "theight = int(input(\"\\nEnter height of the triangle: \"))\n",
    "tbase = int(input(\"\\nEnter base of the triangle: \"))\n",
    "\n",
    "#  Calculate the area of the triangle\n",
    "# formula: area = (base * height) * 0.5\n",
    "def area_triangle(height, base):\n",
    "    area = (height * base) * 0.5\n",
    "    return area\n",
    "print(\"\\nArea of the triangle is: of base {} height {} is\".format(tbase,theight), area_triangle(theight, tbase))"
   ]
  },
  {
   "cell_type": "markdown",
   "metadata": {},
   "source": [
    "### Q.4 Write a Python program to swap two variables?"
   ]
  },
  {
   "cell_type": "code",
   "execution_count": null,
   "metadata": {},
   "outputs": [],
   "source": [
    "# Swap of two numbers without using third variable\n",
    "f_no=int(input(\"Enter first number: \"))\n",
    "s_no=int(input(\"Enter second number: \"))\n",
    "\n",
    "\n",
    "def swap_nos(f_no,s_no):\n",
    "    f_no,s_no=s_no,f_no\n",
    "    return f_no,s_no\n",
    "\n",
    "print(\"\\nAfter swapping first number is: \",swap_nos(f_no,s_no))"
   ]
  },
  {
   "cell_type": "markdown",
   "metadata": {},
   "source": [
    "### Q.5 Write a Python program to generate a random number?"
   ]
  },
  {
   "cell_type": "code",
   "execution_count": null,
   "metadata": {},
   "outputs": [],
   "source": [
    "from random import randint\n",
    "\n",
    "a = int(input(\"Enter Min number : \"))\n",
    "b = int(input(\"Enter Max number : \"))\n",
    "\n",
    "def generateRandomNumber(start=0, end=1000):\n",
    "    print('Random number -> ',randint(start,end))\n",
    "\n",
    "generateRandomNumber(a,b)\n",
    "\n"
   ]
  }
 ],
 "metadata": {
  "interpreter": {
   "hash": "31f2aee4e71d21fbe5cf8b01ff0e069b9275f58929596ceb00d14d90e3e16cd6"
  },
  "kernelspec": {
   "display_name": "Python 3.6.9 64-bit",
   "language": "python",
   "name": "python3"
  },
  "language_info": {
   "codemirror_mode": {
    "name": "ipython",
    "version": 3
   },
   "file_extension": ".py",
   "mimetype": "text/x-python",
   "name": "python",
   "nbconvert_exporter": "python",
   "pygments_lexer": "ipython3",
   "version": "3.6.9"
  },
  "orig_nbformat": 4
 },
 "nbformat": 4,
 "nbformat_minor": 2
}
