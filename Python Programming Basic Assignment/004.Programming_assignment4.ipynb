{
 "cells": [
  {
   "cell_type": "markdown",
   "metadata": {},
   "source": [
    "## Basic Programming Assignment-4"
   ]
  },
  {
   "cell_type": "markdown",
   "metadata": {},
   "source": [
    "#### 1. Write a Python Program to find the factorial of a number ?"
   ]
  },
  {
   "cell_type": "code",
   "execution_count": 3,
   "metadata": {},
   "outputs": [
    {
     "name": "stdout",
     "output_type": "stream",
     "text": [
      "factorial of 5 is 120\n"
     ]
    }
   ],
   "source": [
    "# Factorial of a number\n",
    "\n",
    "unum= int(input(\"Enter a number: \"))\n",
    "\n",
    "\n",
    "def factorial_of_number(unum):\n",
    "    factorial = 1\n",
    "    for i in range(1, unum+1):\n",
    "        factorial = factorial * i\n",
    "    return factorial\n",
    "\n",
    "print(\"factorial of {} is {}\".format(unum, factorial_of_number(unum)))"
   ]
  },
  {
   "cell_type": "markdown",
   "metadata": {},
   "source": [
    "#### 2. Write a Python Program to display the multiplication table ?"
   ]
  },
  {
   "cell_type": "code",
   "execution_count": null,
   "metadata": {},
   "outputs": [],
   "source": [
    "# Multiplication Table of a/upto Number\n",
    "\n",
    "def multiplication_table_of_num(num):\n",
    "    for i in range(1, 11):\n",
    "        print(num, 'x', i, '=', num*i)\n",
    "\n",
    "\n",
    "def multiplication_table_upto_num(num):\n",
    "    for i in range(1, num+1):\n",
    "        for j in range(1, 11):\n",
    "            print(i*j, ' ', end='')\n",
    "        print()\n",
    "\n",
    "\n",
    "\n",
    "\n",
    "while True:\n",
    "    print(\"\\n 1. Choose 1 for multiplication table of one \\n 2. Choose 2 for multiplications upto a number\\n 3. Choose anyother to exit\")\n",
    "    choiceopt = int(input(\"\\nEnter your choice: (1/2) \"))\n",
    "    if choiceopt == 1:\n",
    "        num = int(input(\"Enter a number for table: \"))\n",
    "        multiplication_table_of_num(num)\n",
    "    elif choiceopt == 2:\n",
    "        num = int(input(\"Enter a number upto for table: \"))\n",
    "        multiplication_table_upto_num(num)\n",
    "    else:\n",
    "        print(\"\\nThank you for using this program\")\n",
    "        exit()\n"
   ]
  },
  {
   "cell_type": "markdown",
   "metadata": {},
   "source": [
    "#### 3. Write a Python Program to print the fibonacci sequence ?"
   ]
  },
  {
   "cell_type": "code",
   "execution_count": 2,
   "metadata": {},
   "outputs": [
    {
     "name": "stdout",
     "output_type": "stream",
     "text": [
      "Fibonacci series : \n",
      "0 1 1 2 3 5 8 13 21 34 55 89 144 "
     ]
    }
   ],
   "source": [
    "#  Python Program to print the fibonacci sequence\n",
    "\n",
    "\n",
    "def fibonacci_sequence(num):\n",
    "    a = 0\n",
    "    b = 1\n",
    "    print(a, end=' ')\n",
    "    print(b, end=' ')\n",
    "    for i in range(2, num):\n",
    "        c = a + b\n",
    "        print(c, end=' ')\n",
    "        a = b\n",
    "        b = c\n",
    "        \n",
    "        \n",
    "num=int(input(\"Enter the number of terms: \"))\n",
    "if num < 0:\n",
    "    print('Fibonacci series is not available for Negative Number')\n",
    "elif num <= 2 and num >= 0:\n",
    "    print('Fibonacci series : ')\n",
    "    print(0 , 1)\n",
    "else:\n",
    "    print('Fibonacci series : ')\n",
    "    fibonacci_sequence(num)"
   ]
  },
  {
   "cell_type": "markdown",
   "metadata": {},
   "source": [
    "#### 4. Write a Python Program to check Armstrong number ?"
   ]
  },
  {
   "cell_type": "code",
   "execution_count": 5,
   "metadata": {},
   "outputs": [
    {
     "name": "stdout",
     "output_type": "stream",
     "text": [
      "1634 is an Armstrong number\n"
     ]
    }
   ],
   "source": [
    "import math\n",
    "# check Armstrong number\n",
    "\n",
    "def check_armstrong(number):\n",
    "    total_digits= int(math.log10(number))+1\n",
    "    sum = 0\n",
    "    temp = number\n",
    "    while temp > 0:\n",
    "        digit = temp % 10\n",
    "        sum += digit ** total_digits\n",
    "        temp //= 10\n",
    "    if sum == number:\n",
    "        print(number, \"is an Armstrong number\")\n",
    "    else:\n",
    "        print(number, \"is not an Armstrong number\")\n",
    "\n",
    "\n",
    "user_input = int(input(\"Enter a number: \"))    \n",
    "check_armstrong(user_input)"
   ]
  },
  {
   "cell_type": "markdown",
   "metadata": {},
   "source": [
    "#### 5. Write a Python Program to Find Armstrong number in an interval ?"
   ]
  },
  {
   "cell_type": "code",
   "execution_count": 6,
   "metadata": {},
   "outputs": [
    {
     "name": "stdout",
     "output_type": "stream",
     "text": [
      "1 2 3 4 5 6 7 8 9 153 370 371 407 1634 8208 9474 54748 92727 93084 548834 "
     ]
    }
   ],
   "source": [
    "import math\n",
    "\n",
    "# Armstrong number in an interval\n",
    "\n",
    "def check_armstrong(number):\n",
    "    total_digits= int(math.log10(number))+1\n",
    "    sum = 0\n",
    "    temp = number\n",
    "    while temp > 0:\n",
    "        digit = temp % 10\n",
    "        sum += digit ** total_digits\n",
    "        temp //= 10\n",
    "    if sum == number:\n",
    "        return True\n",
    "    else:\n",
    "        return False\n",
    "    \n",
    "def armstrong_in_interval(lower, upper):\n",
    "    for i in range(lower, upper+1):\n",
    "        if check_armstrong(i):\n",
    "            print(i, end=\" \")\n",
    "    \n",
    "    \n",
    "    \n",
    "start_range = int(input(\"Enter the start range: \"))\n",
    "end_range = int(input(\"Enter the end range: \"))\n",
    "armstrong_in_interval(start_range, end_range)\n"
   ]
  },
  {
   "cell_type": "markdown",
   "metadata": {},
   "source": [
    "### 6. Write a Python Program to Find the Sum of Natural Numbers?"
   ]
  },
  {
   "cell_type": "code",
   "execution_count": 7,
   "metadata": {},
   "outputs": [
    {
     "name": "stdout",
     "output_type": "stream",
     "text": [
      "Sum of 15 natural numbers is 120.0\n"
     ]
    }
   ],
   "source": [
    "def sum_of_n_nos(num):\n",
    "    sum = num*((num+1)/2)\n",
    "    print(f'Sum of {num} natural numbers is {sum}')\n",
    "    \n",
    "num = int(input('Enter a number upto: '))\n",
    "sum_of_n_nos(num)"
   ]
  }
 ],
 "metadata": {
  "interpreter": {
   "hash": "31f2aee4e71d21fbe5cf8b01ff0e069b9275f58929596ceb00d14d90e3e16cd6"
  },
  "kernelspec": {
   "display_name": "Python 3.6.9 64-bit",
   "language": "python",
   "name": "python3"
  },
  "language_info": {
   "codemirror_mode": {
    "name": "ipython",
    "version": 3
   },
   "file_extension": ".py",
   "mimetype": "text/x-python",
   "name": "python",
   "nbconvert_exporter": "python",
   "pygments_lexer": "ipython3",
   "version": "3.6.9"
  },
  "orig_nbformat": 4
 },
 "nbformat": 4,
 "nbformat_minor": 2
}
