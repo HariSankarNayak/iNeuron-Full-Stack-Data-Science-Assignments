{
 "cells": [
  {
   "cell_type": "markdown",
   "metadata": {},
   "source": [
    "# Assignment 1"
   ]
  },
  {
   "cell_type": "markdown",
   "metadata": {},
   "source": [
    "# 1. In the below elements which of them are values or an expression? eg:- values can be integer or string and expressions will be mathematical operators.\n",
    "\n",
    "1. **\\***\n",
    "\n",
    "2. **'hello'**\n",
    "\n",
    "3. **-87.8**\n",
    "\n",
    "4. **-**\n",
    "\n",
    "5. **/**\n",
    "\n",
    "6. **- 6**\n",
    "\n",
    "## Answer\n",
    "\n",
    "1. **\\*** :- _operator_\n",
    "\n",
    "   1. Can be a multiplication operator for numbers. Eg:- 2\\*3\n",
    "   2. two Can be a exponent operator for numbers. Eg:- 2\\*\\*3\n",
    "   3. can be multiplication operator for strings. Eg:- 'hello'\\*3\n",
    "   4. can be a multiplication operator. Eg:- ['oneNeuron']\\*3 = ['oneNeuron','oneNeuron','oneNeuron']\n",
    "   5. can trat as unpacking operator Eg : arr = [1,2,3] print(\\*arr)\n",
    "   6. Can be used to pass a numbers of arguments\n",
    "\n",
    "   ```python\n",
    "\n",
    "   def addition(*args):\n",
    "     return sum(args)\n",
    "\n",
    "   print(addition(1,2,3,4,5))\n",
    "   ```\n",
    "\n",
    "2. **'hello'** :- _Value_ Data type is **string**.\n",
    "\n",
    "3. **-87.8** :- _Value_ Data type is **float**. Negetive float value .\n",
    "\n",
    "4. **-** :- _operator_ Describtion :- Subtraction operator.\n",
    "\n",
    "   1. Can be used to negate a number. Eg:- -87.8\n",
    "   2. Can be used to subtraction. Eg:- -87.8-6\n",
    "\n",
    "5. **/** :- _operator_ Describtion :- Division operator.\n",
    "   1. Can be used to divide number. Eg:- 87.8/2\n",
    "6. **+** :- _operator_\n",
    "\n",
    "   1. Can be used to add two numbers. Eg:- 87.8+6\n",
    "   2. Can be used to concatenate/add two strings. Eg:- 'hello'+'world'\n",
    "   3. Can be used to add two lists. Eg:- ['oneNeuron']+['twoNeuron'] = ['oneNeuron','twoNeuron']\n",
    "   4. Can be used to add two tuples. Eg:- ('oneNeuron','twoNeuron')+('threeNeuron','fourNeuron') = ('oneNeuron','twoNeuron','threeNeuron','fourNeuron')\n",
    "\n",
    "7. **- 6** :-  _Value_ Data type is **integer**.Negetive number.\n"
   ]
  },
  {
   "cell_type": "markdown",
   "metadata": {},
   "source": [
    "# 2. What is the difference between string and variable?\n",
    "\n",
    "## Answer\n",
    "\n",
    "### string\n",
    "\n",
    "is a sequence of characters where each of them is comes under unicode character set.\n",
    "string is a derived data type. It is immutable.\n",
    "\n",
    "### variable\n",
    "\n",
    "memory represinting a value. It can be of any data type. Eg : string, integer, float, boolean, list, tuple, dictionary etc.\n",
    "\n",
    "## Example\n",
    "\n",
    "```python\n",
    "\n",
    "not_string_its_variable = 'it is a string'\n",
    "\n",
    "\n",
    "```\n",
    "\n",
    "**not_string_its_variable** is a variable which stores a strin\n",
    "\n",
    "**'it is a string'** is a string which is its type.\n"
   ]
  },
  {
   "cell_type": "markdown",
   "metadata": {},
   "source": [
    "# 3. Describe three different Data Types ?\n",
    "\n",
    "## Answer\n",
    "\n",
    "Python it self has some inbuilt Data types\n",
    "\n",
    "1. **Int** :- Integer data type. Used store integer values. Decimal, binary, octal, hexadecimal numbers are all integer data types. Eg:- x=1 , y=0x1, z=0o1, w=0b1\n",
    "\n",
    "2. **Float** :- Float data type. Used store float values. Eg:- x=1.0 , y=0.1, z=0.1e1, w=0.1e-1\n",
    "\n",
    "3. **Complex** :- Complex data type. Used store complex values. com=1+2j\n",
    "\n",
    "4. **Bool** :- Boolean data type. Used store boolean values. True/False, is_avail=True\n",
    "\n",
    "5. **Str** :- String data type. Used store string values. Eg:- course='oneNeuron'\n",
    "\n",
    "6. **Bytes** :- Bytes data type. Used store bytes values. Eg:- course=b'oneNeuron'\n",
    "\n",
    "7. **Bytearray** :- Bytearray data type. Used store bytearray values. Eg:- bar=bytearray([1,2,3]), course=bytearray(b'oneNeuron')\n",
    "\n",
    "8. **Range** :- Range data type. Used store range values. Eg:- range(1,10)\n",
    "\n",
    "9. **List** :- List data type. Used store list values. Eg:- course=['oneNeuron','ds','ml']\n",
    "\n",
    "10. **Tuple** :- Tuple data type immutable. Used store tuple values. Eg:- course=('oneNeuron','ds','ml')\n",
    "\n",
    "11. **Set** :- Set data type. Used store set values. Eg:- course={'oneNeuron','ds','ml'}\n",
    "\n",
    "12. **Frozenset** :- Frozenset data type Immutable. Used store frozenset values. Eg:- course=frozenset({'oneNeuron','ds','ml'})\n",
    "\n",
    "13. **Dict** :- Dict data type. Used store dictionary values. Eg:- course={'oneNeuron':'ds','ml':'ds'}\n",
    "\n",
    "14. **None** :- None data type. Used store None values. Eg:- def func(): 1+2 print(func()) #None\n",
    "\n",
    "    ....**Continue**\n"
   ]
  },
  {
   "cell_type": "code",
   "execution_count": 27,
   "metadata": {},
   "outputs": [
    {
     "name": "stdout",
     "output_type": "stream",
     "text": [
      "<class 'bytearray'>\n"
     ]
    }
   ],
   "source": [
    "course=bytearray(b'oneNeuron')\n",
    "print(type(course))"
   ]
  },
  {
   "cell_type": "markdown",
   "metadata": {},
   "source": [
    "# 4. What is an expression made up of? What do all expressions do?\n",
    "\n",
    "## Answer\n",
    "\n",
    "**An expression is a short description of a value.**\n",
    "\n",
    "it can be numbers , strings .. anything that can be evaluated and combination of Variables, Operators and Methods ...\n",
    "\n",
    "Eg:- \n",
    "\n",
    "`x>10` boolean expression , value : True/False , type: Boolean\n",
    "\n",
    "`5` constatnt expression , value : 5 , type: Integer\n",
    "\n",
    "`x+y+z+w+5.0` floating expression , value : 15 , type: Float\n",
    "\n",
    "participating variables get instantiated to values at run-time. \n",
    "\n",
    "Eg : Integer variables to integer values , String variables to array of characters etc.\n"
   ]
  },
  {
   "cell_type": "markdown",
   "metadata": {},
   "source": [
    "# 5. This assignment statements, like spam = 10. What is the difference between an expression and a statement?\n",
    "\n",
    "## Answer\n",
    "\n",
    "**An expression is a short description of a value.**\n",
    "\n",
    "it includes variables, operations and values that yields a perticular value. \n",
    "\n",
    "Eg:- `x>10` boolean expression , value : True/False , type: Boolean\n",
    "\n",
    "\n",
    "**A statement does something. Statements represent an action or command**\n",
    "\n",
    "Eg:- `x=10` #statement \n",
    "`print('hello')` #statement\n",
    "\n",
    "Like print statements, assignment statements. \n",
    "\n",
    "**`spam = 10` #assignment statement**\n",
    "\n",
    "assignment statement is used to assign a value to a variable.\n",
    "\n",
    "Statements Do Something and are often composed of expressions\n",
    "\n",
    "A expression can be a statement.\n"
   ]
  },
  {
   "cell_type": "code",
   "execution_count": 28,
   "metadata": {},
   "outputs": [
    {
     "name": "stdout",
     "output_type": "stream",
     "text": [
      "4\n"
     ]
    }
   ],
   "source": [
    "# print(foo = 1+3) #here anything statement\n",
    "1+3 #expression\n",
    "print(1+3) "
   ]
  },
  {
   "cell_type": "markdown",
   "metadata": {},
   "source": [
    "# 6.After running the following code, what does the variable bacon contain?\n",
    "`bacon = 22`  \n",
    "`bacon + 1`\n",
    "\n",
    "## Answer\n",
    "\n",
    "This is because after the incrementing the value by 1, as we are not assigning the value to some variable or to **bacon** variable itself."
   ]
  },
  {
   "cell_type": "code",
   "execution_count": 29,
   "metadata": {},
   "outputs": [
    {
     "name": "stdout",
     "output_type": "stream",
     "text": [
      "22\n",
      "23\n"
     ]
    }
   ],
   "source": [
    "bacon = 22\n",
    "bacon+1\n",
    "print(bacon)\n",
    "\n",
    "# Alternate way to define a variable\n",
    "bacon+=1\n",
    "print(bacon)"
   ]
  },
  {
   "cell_type": "markdown",
   "metadata": {},
   "source": [
    "# 7.What should the values of the following two terms be?  \n",
    "`'spam'+'spamspam'`  \n",
    "`'spam'*3`\n",
    "\n",
    "## Answer\n",
    "Both expressions evaluate to the string **`'spamspamspam'`**\n",
    "Where as the firstand second does `String Concatentation` and  `String Multiplication` respectively.\n",
    "\n",
    "```python\n",
    "\n",
    "# string concatenation\n",
    "print('spam'+'spamspam') #spamspamspam\n",
    "# string multiplication\n",
    "print('spam'*3) #spamspamspam\n",
    "\n",
    "```\n"
   ]
  },
  {
   "cell_type": "code",
   "execution_count": 30,
   "metadata": {},
   "outputs": [
    {
     "name": "stdout",
     "output_type": "stream",
     "text": [
      "spamspamspam\n",
      "spamspamspam\n"
     ]
    }
   ],
   "source": [
    "print('spam'+'spamspam') #spamspamspam\n",
    "print('spam'*3) #spamspamspam"
   ]
  },
  {
   "cell_type": "markdown",
   "metadata": {},
   "source": [
    "# 8. Why is eggs a valid variable name while 100 is invalid?\n",
    "\n",
    "## Answer\n",
    "\n",
    "There are certain sets of rules to define a identifier :-\n",
    "\n",
    "1. must start with a letter or '_' or '__' character.\n",
    "\n",
    "2. cannot start with a number.\n",
    "\n",
    "3. can only contain alpha-numeric characters and underscores (A-z, 0-9, & _ ).\n",
    "\n",
    "4. The reserved words(keywords) can not be used as identifier.\n",
    "\n",
    "\n",
    "**egg** :- valid identifier , as it satisfies all the rules.\n",
    "\n",
    "**100** :- invalid identifier , as it does not satisfy all the rules. it is violating the rule 1,2."
   ]
  },
  {
   "cell_type": "markdown",
   "metadata": {},
   "source": [
    "# 9.What three functions can be used to get the integer,floating-point number,or string version of a value?\n",
    "\n",
    "## Answer\n",
    "\n",
    "We can convert one type value to another type(Typecasting), by using the following functions.\n",
    "\n",
    "1. int() #converts to integer\n",
    "2. float() #converts to float\n",
    "3. str() #converts to string\n"
   ]
  },
  {
   "cell_type": "code",
   "execution_count": 31,
   "metadata": {},
   "outputs": [
    {
     "name": "stdout",
     "output_type": "stream",
     "text": [
      "int(13.0) :  13\n",
      "float(13) :  13.0\n",
      "str(13) :  13\n"
     ]
    }
   ],
   "source": [
    "print('int(13.0) : ',int(13.0)) # int() float to int\n",
    "print('float(13) : ',float(13)) # float() int to float\n",
    "print('str(13) : ',str(13)) # str() int to string"
   ]
  },
  {
   "cell_type": "markdown",
   "metadata": {},
   "source": [
    "# 10.Why does this expression cause an error? how can you fix it?  \n",
    "`'I have eaten ' + 99 + 'burritos.'`\n",
    "\n",
    "## Answer\n",
    "\n",
    "fails as `+` operator works as string concatenation operator.` str + int+ str` concatenation does not work in python, as data type of concatenation is different\n",
    "\n",
    "Concatenation of all str is possible\n",
    "sum of all int is possible\n",
    "\n",
    "This can be fixed when we convert `99` the integer type to string datatype"
   ]
  },
  {
   "cell_type": "code",
   "execution_count": 32,
   "metadata": {},
   "outputs": [
    {
     "data": {
      "text/plain": [
       "'I have eaten 99 burritos.'"
      ]
     },
     "execution_count": 32,
     "metadata": {},
     "output_type": "execute_result"
    }
   ],
   "source": [
    "'I have eaten ' + \"99\" + ' burritos.' #I have eaten 99 burritos.\n",
    "'I have eaten ' + str(99) + ' burritos.' #I have eaten 99 burritos."
   ]
  }
 ],
 "metadata": {
  "interpreter": {
   "hash": "31f2aee4e71d21fbe5cf8b01ff0e069b9275f58929596ceb00d14d90e3e16cd6"
  },
  "kernelspec": {
   "display_name": "Python 3.6.9 64-bit",
   "language": "python",
   "name": "python3"
  },
  "language_info": {
   "codemirror_mode": {
    "name": "ipython",
    "version": 3
   },
   "file_extension": ".py",
   "mimetype": "text/x-python",
   "name": "python",
   "nbconvert_exporter": "python",
   "pygments_lexer": "ipython3",
   "version": "3.6.9"
  },
  "orig_nbformat": 4
 },
 "nbformat": 4,
 "nbformat_minor": 2
}
