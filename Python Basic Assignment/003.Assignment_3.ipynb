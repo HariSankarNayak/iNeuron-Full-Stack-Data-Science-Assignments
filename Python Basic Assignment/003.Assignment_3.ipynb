{
 "cells": [
  {
   "cell_type": "markdown",
   "metadata": {},
   "source": [
    "# Assignment 3"
   ]
  },
  {
   "cell_type": "markdown",
   "metadata": {},
   "source": [
    "## 1. Why are functions advantageous to have in your programs?\n",
    "### Answer : \n",
    "\n",
    "1. Duplication of the code is reduced.\n",
    "2. Increase the readability and modularity of the program.\n",
    "3. Modification of the program becomes easier\n",
    "4. Reduces the chances of error.\n",
    "5. It is easier to maintain the program.\n",
    "6. It is easier to debug the program.\n",
    "7. It is easier to test the program.\n",
    "8. It is easier to extend the program.\n",
    "9. It is easier to reuse the program."
   ]
  },
  {
   "cell_type": "markdown",
   "metadata": {},
   "source": [
    "## 2. When does the code in a function run: when it's specified or when it's called?\n",
    "### Answer : \n",
    "\n",
    "The code in a function executes when the function is called, not when the function is specified."
   ]
  },
  {
   "cell_type": "markdown",
   "metadata": {},
   "source": [
    "## 3. What statement creates a function?\n",
    "### Answer : \n",
    "\n",
    "The `def` statement defines a function  \n",
    "**Creating a  Function:**\n",
    "```python\n",
    "def function_name(parameters):\n",
    "    \"\"\"doc string\"\"\"          \n",
    "    # function body\n",
    "    return value\n",
    "```"
   ]
  },
  {
   "cell_type": "markdown",
   "metadata": {},
   "source": [
    "## 4. What is the difference between a function and a function call?\n",
    "### Answer : \n",
    "\n",
    "A function is combination of set of procedures to achieve a particular result.\n",
    "\n",
    "Function call is the execution of a function or commanding a function to execute.\n",
    "\n",
    "* Example:\n",
    "```python\n",
    "#Function\n",
    "def give_me_result():\n",
    "        # instructions\n",
    "    return result\n",
    "\n",
    "give_me_result() #function call\n",
    "```\n"
   ]
  },
  {
   "cell_type": "markdown",
   "metadata": {},
   "source": [
    "## 5. How many global scopes are there in a Python program? How many local scopes?\n",
    "### Answer : \n",
    "\n",
    "Each module is a global scope\n",
    "\n",
    "Only one global scope per python program and remains through out the life cycle of program.\n",
    "\n",
    "Each call to a function is a new local scope\n",
    "\n",
    "There can be as many local scopes as it is temporarily created when the function is executed and its life is limited to function/block life. Handled by GC .\n",
    "\n",
    "Assigned names are local, unless declared global\n",
    "\n",
    "All other names are global or built-in"
   ]
  },
  {
   "cell_type": "markdown",
   "metadata": {},
   "source": [
    "## 6. What happens to variables in a local scope when the function call returns?\n",
    "### Answer : \n",
    "\n",
    "When a function returns, the local scope is destroyed, and all the variables in it are handled by GC.\n",
    "\n",
    "When a function is called, the local variable is temporarily created.\n",
    "\n",
    "As soon as the function returns, the local scope is destroyed and the variable no longer can be accessable.\n",
    "\n",
    "We cannot access the that variable outside the function"
   ]
  },
  {
   "cell_type": "markdown",
   "metadata": {},
   "source": [
    "## 7. What is the concept of a return value? Is it possible to have a return value in an expression?\n",
    "\n",
    "### Answer :\n",
    "\n",
    "\n",
    "`return` statement keyward in a function used to end the execution of the function call and “returns” the result \n",
    "\n",
    "yes, it is possible to have return value in an expression."
   ]
  },
  {
   "cell_type": "markdown",
   "metadata": {},
   "source": [
    "## 8. If a function does not have a return statement, what is the return value of a call to that function?\n",
    "\n",
    "## Answer : \n",
    "\n",
    "If there is no return statement for a function, its return value is `None`."
   ]
  },
  {
   "cell_type": "markdown",
   "metadata": {},
   "source": [
    "## 9. How do you make a function variable refer to the global variable?\n",
    "\n",
    "### Answer :\n",
    "\n",
    "Variables that are created or defined outside the function is called as the Global Variables\n",
    "\n",
    "Global Variables can be used anywhere within the program ,both inside or outside the function\n",
    "\n",
    "A global statement will make a variable in a local scope to refer to the global variable.\n",
    "\n",
    "If you want to refer to a global variable in a function, you can use the `global` keyword to declare which variables are global.\n"
   ]
  },
  {
   "cell_type": "code",
   "execution_count": 3,
   "metadata": {},
   "outputs": [
    {
     "name": "stdout",
     "output_type": "stream",
     "text": [
      "locally: 12\n",
      "globally : 12\n"
     ]
    }
   ],
   "source": [
    "x = 11\n",
    "def fun():\n",
    "    global x\n",
    "    x+=1 \n",
    "    print(\"locally:\", x)\n",
    "fun()\n",
    "print(\"globally :\", x)"
   ]
  },
  {
   "cell_type": "markdown",
   "metadata": {},
   "source": [
    "## 10. What is the data type of None?\n",
    "\n",
    "### Answer : \n",
    "\n",
    "The data type of None is `NoneType`."
   ]
  },
  {
   "cell_type": "code",
   "execution_count": 4,
   "metadata": {},
   "outputs": [
    {
     "data": {
      "text/plain": [
       "NoneType"
      ]
     },
     "execution_count": 4,
     "metadata": {},
     "output_type": "execute_result"
    }
   ],
   "source": [
    "type(None)\n"
   ]
  },
  {
   "cell_type": "markdown",
   "metadata": {},
   "source": [
    "## 11. What does the sentence `import areallyourpetsnamederic` do?\n",
    "\n",
    "### Answer : \n",
    "As the areallyourpetsnamederic is not a built-in package, it will produce a `ModuleNotFoundError` , `ImportError`\n",
    "\n",
    "if its present and configured scuccesfully,statement will import a module named `areallyourpetsnamederic` ."
   ]
  },
  {
   "cell_type": "markdown",
   "metadata": {},
   "source": [
    "## 12. If you had a bacon() feature in a spam module, what would you call it after importing spam?\n",
    "\n",
    "### Answer : \n",
    "\n",
    "This function can be called with `spam.bacon()`, to execute."
   ]
  },
  {
   "cell_type": "markdown",
   "metadata": {},
   "source": [
    "## 13. What can you do to save a programme from crashing if it encounters an error?\n",
    "\n",
    "## Answer : \n",
    "\n",
    "Using of Exception Handling i.e. TRY-EXCEPT-FINALLY Block\n",
    "\n",
    "Place the riskey code in a `try` clause and use except `block` to handle the error.\n",
    "\n",
    "```python\n",
    "try:\n",
    "    # code that might raise an exception\n",
    "except Exception as e:\n",
    "    # handle the exception\n",
    "finally:\n",
    "    # code that will run no matter what\n",
    "```"
   ]
  },
  {
   "cell_type": "markdown",
   "metadata": {},
   "source": [
    "## 14. What is the purpose of the try clause? What is the purpose of the except clause?\n",
    "\n",
    "### Answer :\n",
    "\n",
    "* It is highly recommended to handle exceptions. \n",
    "* The code which may raise exceptions is called risky code and we have to take risky code  inside try block. The corresponding handling code we have to take inside except block. \n",
    "\n",
    "```python\n",
    "try:\n",
    "    # code that might raise an exception\n",
    "except Exception as e:\n",
    "    # handle the exception\n",
    "finally:\n",
    "    # code that will run no matter what\n",
    "```"
   ]
  }
 ],
 "metadata": {
  "kernelspec": {
   "display_name": "Python 3",
   "language": "python",
   "name": "python3"
  },
  "language_info": {
   "codemirror_mode": {
    "name": "ipython",
    "version": 3
   },
   "file_extension": ".py",
   "mimetype": "text/x-python",
   "name": "python",
   "nbconvert_exporter": "python",
   "pygments_lexer": "ipython3",
   "version": "3.6.9"
  }
 },
 "nbformat": 4,
 "nbformat_minor": 4
}
