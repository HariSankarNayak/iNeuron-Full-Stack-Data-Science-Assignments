{
 "cells": [
  {
   "cell_type": "markdown",
   "id": "2f149cae",
   "metadata": {},
   "source": [
    "# Assignment 12 Solutions"
   ]
  },
  {
   "cell_type": "markdown",
   "id": "354c063f",
   "metadata": {},
   "source": [
    "## 1. In what modes should the PdfFileReader() and PdfFileWriter() File objects will be opened?\n",
    "\n",
    "### Answer :\n",
    "\n",
    "For `PdfFileReader()` file objects should be opened in `rb` -> read binary mode,\n",
    "\n",
    "Whereas for `PdfFileWriter()` file objects should be opened in `wb` -> write binary mode.\n"
   ]
  },
  {
   "cell_type": "markdown",
   "id": "c1bd13eb",
   "metadata": {},
   "source": [
    "## 2. From a PdfFileReader object, how do you get a Page object for page 5?\n",
    "\n",
    "### Answer :\n",
    "\n",
    "`PdfFileReader` class provides a method called `getPage(page_no)` to get a page object.\n"
   ]
  },
  {
   "cell_type": "code",
   "execution_count": 31,
   "id": "911bee10",
   "metadata": {},
   "outputs": [
    {
     "ename": "FileNotFoundError",
     "evalue": "[Errno 2] No such file or directory: 'HandsonMachine-Learning-with-Scikit-2E.pdf'",
     "output_type": "error",
     "traceback": [
      "\u001b[0;31m---------------------------------------------------------------------------\u001b[0m",
      "\u001b[0;31mFileNotFoundError\u001b[0m                         Traceback (most recent call last)",
      "\u001b[0;32m<ipython-input-31-70f6f9381679>\u001b[0m in \u001b[0;36m<module>\u001b[0;34m\u001b[0m\n\u001b[1;32m      1\u001b[0m \u001b[0;31m# Example Code:\u001b[0m\u001b[0;34m\u001b[0m\u001b[0;34m\u001b[0m\u001b[0;34m\u001b[0m\u001b[0m\n\u001b[1;32m      2\u001b[0m \u001b[0;32mfrom\u001b[0m \u001b[0mPyPDF2\u001b[0m \u001b[0;32mimport\u001b[0m \u001b[0mPdfFileReader\u001b[0m\u001b[0;34m\u001b[0m\u001b[0;34m\u001b[0m\u001b[0m\n\u001b[0;32m----> 3\u001b[0;31m \u001b[0mpdf_reader\u001b[0m \u001b[0;34m=\u001b[0m \u001b[0mPdfFileReader\u001b[0m\u001b[0;34m(\u001b[0m\u001b[0;34m'HandsonMachine-Learning-with-Scikit-2E.pdf'\u001b[0m\u001b[0;34m)\u001b[0m\u001b[0;34m\u001b[0m\u001b[0;34m\u001b[0m\u001b[0m\n\u001b[0m\u001b[1;32m      4\u001b[0m \u001b[0mpdf_reader\u001b[0m\u001b[0;34m.\u001b[0m\u001b[0mgetPage\u001b[0m\u001b[0;34m(\u001b[0m\u001b[0;36m5\u001b[0m\u001b[0;34m)\u001b[0m\u001b[0;34m.\u001b[0m\u001b[0mextractText\u001b[0m\u001b[0;34m(\u001b[0m\u001b[0;34m)\u001b[0m\u001b[0;34m\u001b[0m\u001b[0;34m\u001b[0m\u001b[0m\n",
      "\u001b[0;32m~/.local/lib/python3.6/site-packages/PyPDF2/pdf.py\u001b[0m in \u001b[0;36m__init__\u001b[0;34m(self, stream, strict, warndest, overwriteWarnings)\u001b[0m\n\u001b[1;32m   1204\u001b[0m             \u001b[0mwarnings\u001b[0m\u001b[0;34m.\u001b[0m\u001b[0mwarn\u001b[0m\u001b[0;34m(\u001b[0m\u001b[0;34m\"PdfFileReader stream/file object is not in binary mode. It may not be read correctly.\"\u001b[0m\u001b[0;34m,\u001b[0m \u001b[0mPdfReadWarning\u001b[0m\u001b[0;34m)\u001b[0m\u001b[0;34m\u001b[0m\u001b[0;34m\u001b[0m\u001b[0m\n\u001b[1;32m   1205\u001b[0m         \u001b[0;32mif\u001b[0m \u001b[0misString\u001b[0m\u001b[0;34m(\u001b[0m\u001b[0mstream\u001b[0m\u001b[0;34m)\u001b[0m\u001b[0;34m:\u001b[0m\u001b[0;34m\u001b[0m\u001b[0;34m\u001b[0m\u001b[0m\n\u001b[0;32m-> 1206\u001b[0;31m             \u001b[0;32mwith\u001b[0m \u001b[0mopen\u001b[0m\u001b[0;34m(\u001b[0m\u001b[0mstream\u001b[0m\u001b[0;34m,\u001b[0m \u001b[0;34m'rb'\u001b[0m\u001b[0;34m)\u001b[0m \u001b[0;32mas\u001b[0m \u001b[0mfileobj\u001b[0m\u001b[0;34m:\u001b[0m\u001b[0;34m\u001b[0m\u001b[0;34m\u001b[0m\u001b[0m\n\u001b[0m\u001b[1;32m   1207\u001b[0m                 \u001b[0mstream\u001b[0m \u001b[0;34m=\u001b[0m \u001b[0mBytesIO\u001b[0m\u001b[0;34m(\u001b[0m\u001b[0mb_\u001b[0m\u001b[0;34m(\u001b[0m\u001b[0mfileobj\u001b[0m\u001b[0;34m.\u001b[0m\u001b[0mread\u001b[0m\u001b[0;34m(\u001b[0m\u001b[0;34m)\u001b[0m\u001b[0;34m)\u001b[0m\u001b[0;34m)\u001b[0m\u001b[0;34m\u001b[0m\u001b[0;34m\u001b[0m\u001b[0m\n\u001b[1;32m   1208\u001b[0m         \u001b[0mself\u001b[0m\u001b[0;34m.\u001b[0m\u001b[0mread\u001b[0m\u001b[0;34m(\u001b[0m\u001b[0mstream\u001b[0m\u001b[0;34m)\u001b[0m\u001b[0;34m\u001b[0m\u001b[0;34m\u001b[0m\u001b[0m\n",
      "\u001b[0;31mFileNotFoundError\u001b[0m: [Errno 2] No such file or directory: 'HandsonMachine-Learning-with-Scikit-2E.pdf'"
     ]
    }
   ],
   "source": [
    "# Example Code:\n",
    "from PyPDF2 import PdfFileReader\n",
    "pdf_reader = PdfFileReader('HandsonMachine-Learning-with-Scikit-2E.pdf')\n",
    "pdf_reader.getPage(5).extractText()\n"
   ]
  },
  {
   "cell_type": "markdown",
   "id": "ddc7d5e9",
   "metadata": {},
   "source": [
    "## 3. What PdfFileReader variable stores the number of pages in the PDF document?\n",
    "\n",
    "### Answer :\n",
    "\n",
    "`getNumPages()` method of `PdfFileReader` class returns the no pages in a PDF document and type of the variable is `int`.\n"
   ]
  },
  {
   "cell_type": "code",
   "execution_count": null,
   "id": "eaf52330",
   "metadata": {},
   "outputs": [
    {
     "name": "stdout",
     "output_type": "stream",
     "text": [
      "1\n",
      "<class 'int'>\n"
     ]
    }
   ],
   "source": [
    "\n",
    "from PyPDF2 import PdfFileReader\n",
    "pdf_reader = PdfFileReader('Assignment_12.docx.pdf')\n",
    "print(pdf_reader.getNumPages()) # Prints the no of pages\n",
    "print(type(pdf_reader.getNumPages())) # Prints the type of the no of pages\n"
   ]
  },
  {
   "cell_type": "markdown",
   "id": "b750ecda",
   "metadata": {},
   "source": [
    "## 4. If a PdfFileReader object’s PDF is encrypted with the password `swordfish`, what must you do before you can obtain Page objects from it?\n",
    "\n",
    "### Answer :\n",
    "\n",
    "If a `PdfFileReader` object’s PDF is encrypted with the password `swordfish` and you're not aware of it. first read the Pdf using the PdfFileReader Class. PdfFileReader class provides a attribute called `isEncrypted` to check whether a pdf is encrypted or not. the method returns true if a pdf is encrypted and vice versa.  \n",
    "if pdf is encrypted use the `decrypt()` method provided by PdfFileReader class first then try to read the contents/pages of the pdf, else PyPDF2 will raise the following error `PyPDF2.utils.PdfReadError: file has not been decrypted`\n"
   ]
  },
  {
   "cell_type": "code",
   "execution_count": null,
   "id": "bbf3e761",
   "metadata": {},
   "outputs": [
    {
     "name": "stdout",
     "output_type": "stream",
     "text": [
      "\n"
     ]
    }
   ],
   "source": [
    "#Example Code:\n",
    "from PyPDF2 import PdfFileReader , PdfFileWriter\n",
    "pdf_reader = PdfFileReader('Assignment_12.docx.pdf')\n",
    "if pdf_reader.isEncrypted: # to check whether the pdf is encrypted or not\n",
    "    pdf_reader.decrypt(\"swordfish\")\n",
    "for page in pdf_reader.pages:\n",
    "    print(page.extractText()) # to print the text data of a page from pdf\n"
   ]
  },
  {
   "cell_type": "markdown",
   "id": "eb2989bf",
   "metadata": {},
   "source": [
    "## 5. What methods do you use to rotate a page?\n",
    "\n",
    "### Answer :\n",
    "\n",
    "PyPDF2 Package provides 2 methods to rotate a page:\n",
    "\n",
    "1. `rotateClockWise()` -> For Clockwise rotation\n",
    "2. `rotateCounterClockWise()` -> For Counter Clockwise rotation\n",
    "\n",
    "The PyPDF2 package only allows you to rotate a page in increments of 90 degrees. You will receive an AssertionError otherwise.\n"
   ]
  },
  {
   "cell_type": "code",
   "execution_count": null,
   "id": "2526e45e",
   "metadata": {},
   "outputs": [],
   "source": [
    "file_object = open('Assignment_12.docx.pdf', 'rb')\n",
    "file = PdfFileReader(file_object)\n",
    "\n",
    "# ROTATING A SINGLE PAGE\n",
    "page_1 = file.getPage(0)\n",
    "page_1.rotateClockwise(90)\n",
    "# Creating a new Pdf and adding the rotated pdf page\n",
    "\n",
    "pdfWriter = PdfFileWriter()\n",
    "pdfWriter.addPage(page_1)\n",
    "resultPdfFile = open('Assignment_12.docx.pdf', 'wb')\n",
    "pdfWriter.write(resultPdfFile)\n",
    "\n",
    "resultPdfFile.close()\n",
    "file_object.close()\n"
   ]
  },
  {
   "cell_type": "markdown",
   "id": "2b46fab1",
   "metadata": {},
   "source": [
    "## 6. What is the difference between a Run object and a Paragraph object?\n",
    "\n",
    "### Answer :\n",
    "\n",
    "The structure of a document is represented by three different data types in `python-Docx`. \n",
    "\n",
    "At the highest level, a `Document` object represents the entire document. The Document object contains a list of `Paragraph` objects for the paragraphs in the document. (A new paragraph begins whenever the user presses `ENTER` or `RETURN` while typing in a Word document.) Each of these Paragraph objects contains a list of one or more `Run` objects.\n",
    "\n",
    "The text in a Word document is more than just a string. It has font, size, color, and other styling information associated with it. A style in Word is a collection of these attributes. A Run object is a contiguous run of text with the same style. A new Run object is needed whenever the text style changes.\n"
   ]
  },
  {
   "cell_type": "markdown",
   "id": "4880f471",
   "metadata": {},
   "source": [
    "## 7. How do you obtain a list of Paragraph objects for a Document object that’s stored in a variable named doc?"
   ]
  },
  {
   "cell_type": "code",
   "execution_count": null,
   "id": "51f2fe7f",
   "metadata": {},
   "outputs": [
    {
     "name": "stdout",
     "output_type": "stream",
     "text": [
      "[<docx.text.paragraph.Paragraph object at 0x7f76a796a1d0>, <docx.text.paragraph.Paragraph object at 0x7f76a796aac8>, <docx.text.paragraph.Paragraph object at 0x7f76a796ac18>, <docx.text.paragraph.Paragraph object at 0x7f76a796ab70>, <docx.text.paragraph.Paragraph object at 0x7f76a796ac88>, <docx.text.paragraph.Paragraph object at 0x7f76a796aba8>, <docx.text.paragraph.Paragraph object at 0x7f76a796acf8>, <docx.text.paragraph.Paragraph object at 0x7f76a796ac50>, <docx.text.paragraph.Paragraph object at 0x7f76a796ad68>, <docx.text.paragraph.Paragraph object at 0x7f76a796acc0>, <docx.text.paragraph.Paragraph object at 0x7f76a796abe0>, <docx.text.paragraph.Paragraph object at 0x7f76a796ad30>, <docx.text.paragraph.Paragraph object at 0x7f76a796aeb8>]\n",
      "1. In what modes should the PdfFileReader() and PdfFileWriter() File objects will be opened?\n",
      "2. From a PdfFileReader object, how do you get a Page object for page 5?\n",
      "3. What PdfFileReader variable stores the number of pages in the PDF document?\n",
      "4. If a PdfFileReader object’s PDF is encrypted with the password swordfish, what must you do before you can obtain Page objects from it?\n",
      "5. What methods do you use to rotate a page?\n",
      "6. What is the difference between a Run object and a Paragraph object?\n",
      "7. How do you obtain a list of Paragraph objects for a Document object that’s stored in a variable named doc?\n",
      "8. What type of object has bold, underline, italic, strike, and outline variables?\n",
      "9. What is the difference between False, True, and None for the bold variable?\n",
      "10. How do you create a Document object for a new Word document?\n",
      "11. How do you add a paragraph with the text 'Hello, there!' to a Document object stored in a variable named doc?\n",
      "12. What integers represent the levels of headings available in Word documents?\n",
      "\n"
     ]
    }
   ],
   "source": [
    "# Example Program\n",
    "from docx import Document\n",
    "doc = Document(\"Assignment_12.docx\")  # Path of the Docx file\n",
    "print(doc.paragraphs) # Prints the list of Paragraph objects for a Document\n",
    "for paragraph in doc.paragraphs:\n",
    "    print(paragraph.text) # Prints the text in the paragraph\n"
   ]
  },
  {
   "cell_type": "markdown",
   "id": "4e696c59",
   "metadata": {},
   "source": [
    "## 8. What type of object has bold, underline, italic, strike, and outline variables?\n",
    "\n",
    "### Answer :\n",
    "\n",
    "`Run` object has bold, underline, italic, strike, and outline variables. The text in a Word document is more than just a string. It has font, size, color, and other styling information associated with it.\n",
    "\n",
    "A style in Word is a collection of these attributes. A Run object is a contiguous run of text with the same style. A new Run object is needed whenever the text style changes.\n"
   ]
  },
  {
   "cell_type": "markdown",
   "id": "0ff87713",
   "metadata": {},
   "source": [
    "## 9. What is the difference between False, True, and None for the bold variable?\n",
    "\n",
    "### Answer :\n",
    "\n",
    "- Runs can be further styled using text attributes. Each attribute can be set to one of three values:\n",
    "  True (the attribute is always enabled, no matter what other styles are applied to the run),\n",
    "  False (the attribute is always disabled),\n",
    "  None (defaults to whatever the run’s style is set to)\n",
    "\n",
    "- True always makes the Run object bolded and False makes it always not bolded, no matter what the style’s bold setting is . None will make the Run object just use the style’s bold setting\n",
    "\n",
    "```python\n",
    "\n",
    "bold = True  # Style Set to Bold\n",
    "bold = False  # Style Not Set to Bold\n",
    "bold = None  # Style is Not Applicable\n",
    "\n",
    "```\n"
   ]
  },
  {
   "cell_type": "markdown",
   "id": "7a280546",
   "metadata": {},
   "source": [
    "## 10. How do you create a Document object for a new Word document?"
   ]
  },
  {
   "cell_type": "code",
   "execution_count": null,
   "id": "9a1d1970",
   "metadata": {},
   "outputs": [],
   "source": [
    "# Example Program\n",
    "from docx import Document\n",
    "document = Document()\n",
    "document.add_paragraph(\"Lorem Ipsum is simply dummy text of the printing and typesetting industry. Lorem Ipsum has been the industry's standard dummy text ever since the 1500s, when an unknown printer took a galley of type and scrambled it to make a type specimen book. It has survived not only five centuries, but also the leap into electronic typesetting, remaining essentially unchanged. It was popularised in the 1960s with the release of Letraset sheets containing Lorem Ipsum passages, and more recently with desktop publishing software like Aldus PageMaker including versions of Lorem Ipsum\")\n",
    "document.save('assignment.docx')\n"
   ]
  },
  {
   "cell_type": "markdown",
   "id": "0b9f5441",
   "metadata": {},
   "source": [
    "## 11. How do you add a paragraph with the text 'Hello, there!' to a Document object stored in a variable named doc?"
   ]
  },
  {
   "cell_type": "code",
   "execution_count": null,
   "id": "031fd95f",
   "metadata": {},
   "outputs": [],
   "source": [
    "# Example Program\n",
    "from docx import Document\n",
    "doc = Document()\n",
    "doc.add_paragraph('Hello, there!')\n",
    "doc.save('there.docx')"
   ]
  },
  {
   "cell_type": "markdown",
   "id": "cfed7bb9",
   "metadata": {},
   "source": [
    "## 12. What integers represent the levels of headings available in Word documents?\n",
    "\n",
    "### Answer :\n",
    "\n",
    "The levels for a heading in a word document can be specified by using the `level` attribute inside the `add_heading` method. There are a total of 5 levels statring for 0 t0 4. where level 0 makes a headline with the horizontal line below the text, whereas the heading level 1 is the main heading. Similarly, the other headings are sub-heading with their's font-sizes in decreasing order.\n"
   ]
  },
  {
   "cell_type": "code",
   "execution_count": null,
   "id": "da8a261f",
   "metadata": {},
   "outputs": [],
   "source": [
    "import docx\n",
    "new_doc = docx.Document()\n",
    "\n",
    "new_doc.add_heading('HEADING - 1', level=1)\n",
    "new_doc.add_heading('HEADING - 2', level=2)\n",
    "new_doc.add_heading('HEADING - 3', level=3)\n",
    "new_doc.add_heading('HEADING - 4', level=4)\n",
    "new_doc.add_heading('HEADING - 5', level=5)\n",
    "\n",
    "new_doc.save('sample_test.docx')\n"
   ]
  }
 ],
 "metadata": {
  "kernelspec": {
   "display_name": "Python 3",
   "language": "python",
   "name": "python3"
  },
  "language_info": {
   "codemirror_mode": {
    "name": "ipython",
    "version": 3
   },
   "file_extension": ".py",
   "mimetype": "text/x-python",
   "name": "python",
   "nbconvert_exporter": "python",
   "pygments_lexer": "ipython3",
   "version": "3.6.9"
  }
 },
 "nbformat": 4,
 "nbformat_minor": 5
}
