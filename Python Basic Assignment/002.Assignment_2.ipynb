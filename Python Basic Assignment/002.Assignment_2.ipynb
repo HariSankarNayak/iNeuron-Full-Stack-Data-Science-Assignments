{
 "cells": [
  {
   "cell_type": "markdown",
   "metadata": {},
   "source": [
    "# Assignment 2"
   ]
  },
  {
   "cell_type": "markdown",
   "metadata": {},
   "source": [
    "## 1. What are the two values of the Boolean data type? How do you write them?\n",
    "\n",
    "### Answer:\n",
    "\n",
    "There are two values of the Boolean data type: `True` and `False`.\n",
    "\n",
    "it can also be as:\n",
    "\n",
    "```python\n",
    "True == 1 \n",
    "False == 0\n",
    "```\n",
    "\n",
    "We can use them as :\n",
    "\n",
    "\n"
   ]
  },
  {
   "cell_type": "code",
   "execution_count": 2,
   "metadata": {},
   "outputs": [
    {
     "name": "stdout",
     "output_type": "stream",
     "text": [
      "variable is_valid_true is: True and type is <class 'bool'> \n",
      "variable is_valid_false is: False and type is <class 'bool'> \n"
     ]
    }
   ],
   "source": [
    "is_valid_true = True\n",
    "is_valid_false = False\n",
    "print('variable is_valid_true is: {} and type is {} '.format(\n",
    "    is_valid_true, type(is_valid_true)))\n",
    "print('variable is_valid_false is: {} and type is {} '.format(\n",
    "    is_valid_false, type(is_valid_false)))"
   ]
  },
  {
   "cell_type": "markdown",
   "metadata": {},
   "source": [
    "## 2. What are the three different types of Boolean operators?\n",
    "\n",
    "### Answer:\n",
    "\n",
    "The three differnt types of Boolean operators or  logical Operators in python are:  `are` , `and` , `not`\n",
    "\n",
    "`and` : If **both arguments are True** then only result is True \n",
    "\n",
    "`or` : If **atleast one arugemnt is True** then result is True \n",
    "\n",
    "`not` : Complement "
   ]
  },
  {
   "cell_type": "code",
   "execution_count": 4,
   "metadata": {},
   "outputs": [
    {
     "name": "stdout",
     "output_type": "stream",
     "text": [
      "data science\n",
      "\n",
      "\n",
      "ineuron\n",
      "ineuron\n",
      "True\n",
      "False\n"
     ]
    }
   ],
   "source": [
    "print(\"ineuron\" and \"data science\") #data science\n",
    "print(\"\" and \"ineuron\")  # \"\"\n",
    "print(\"ineuron\" and \"\")  # \"\"\n",
    "print(\"\" or \"ineuron\")  # \"ineuron\"\n",
    "print(\"ineuron\" or \"\")  # \"ineuron\"\n",
    "print(not \"\")  # True\n",
    "print(not \"ineuron\")  # False\n"
   ]
  },
  {
   "cell_type": "markdown",
   "metadata": {},
   "source": [
    "## 3. Make a list of each Boolean operator&#39;s truth tables (i.e. every possible combination of Boolean values for the operator and what it evaluate) ?\n",
    "\n",
    "### Answer:\n",
    "\n",
    "`and` : If **both arguments are True** then only result is True \n",
    "\n",
    "`or` : If **atleast one arugemnt is True** then result is True \n",
    "\n",
    "`not` : Complement \n",
    "\n",
    "### Truth Tables for each operator\n",
    "\n",
    "\n",
    "* **`and`**  \n",
    "    `True` and `True` is `True`   \n",
    "    `True` and `False` is `False`  \n",
    "    `False` and `True` is `False`  \n",
    "    `False` and `False` is `False`\n",
    "    \n",
    "    \n",
    "* **`or`**  \n",
    "    `True` and `True` is `True`   \n",
    "    `True` and `False` is `True`  \n",
    "    `False` and `True` is `True`  \n",
    "    `False` and `False` is `False`\n",
    "    \n",
    "    \n",
    "* **`not`**        \n",
    "    `True` not is `False`\n",
    "    `False` not is `True`"
   ]
  },
  {
   "cell_type": "code",
   "execution_count": 9,
   "metadata": {},
   "outputs": [
    {
     "name": "stdout",
     "output_type": "stream",
     "text": [
      "AND OPERATION\n",
      "A B AND\n",
      "0 0 0\n",
      "0 1 0\n",
      "1 0 0\n",
      "1 1 1\n",
      "AND OPERATION\n",
      "A B OR\n",
      "0 0 0\n",
      "0 1 1\n",
      "1 0 1\n",
      "1 1 1\n",
      "\n",
      "NOT OPERATION\n",
      "A NOT\n",
      "0 True\n",
      "1 False\n"
     ]
    }
   ],
   "source": [
    "combinations_list = [[0, 0], [0, 1], [1, 0], [1, 1]]\n",
    "print(\"AND OPERATION\\nA B AND\")\n",
    "for i in combinations_list:\n",
    "    print(i[0], i[1], i[0] and i[1])\n",
    "    \n",
    "print(\"OR OPERATION\\nA B OR\")\n",
    "\n",
    "for i in combinations_list:\n",
    "    print(i[0], i[1], i[0] or i[1])\n",
    "\n",
    "not_list = [0, 1]\n",
    "print(\"\\nNOT OPERATION\\nA NOT\")\n",
    "for i in not_list:\n",
    "    print(i, not i)\n"
   ]
  },
  {
   "cell_type": "markdown",
   "metadata": {},
   "source": [
    "## 4. What are the values of the following expressions ?\n",
    "\n",
    "### Answer:\n",
    "\n",
    "* (5 > 4) and (3 == 5) :  False\n",
    "* not (5 > 4) :  False\n",
    "* (5 > 4) or (3 == 5) :  True\n",
    "* not ((5 > 4) or (3 == 5)) :  False\n",
    "* (True and True) and (True == False) :  False\n",
    "* (not False) or (not True) :  True"
   ]
  },
  {
   "cell_type": "code",
   "execution_count": 10,
   "metadata": {},
   "outputs": [
    {
     "name": "stdout",
     "output_type": "stream",
     "text": [
      "(5 > 4) and (3 == 5) :  False\n",
      "not (5 > 4) :  False\n",
      "(5 > 4) or (3 == 5) :  True\n",
      "not ((5 > 4) or (3 == 5)) :  False\n",
      "(True and True) and (True == False) :  False\n",
      "(not False) or (not True) :  True\n"
     ]
    }
   ],
   "source": [
    "print(f\"(5 > 4) and (3 == 5) :  {(5 > 4) and (3 == 5)}\")\n",
    "print(f\"not (5 > 4) :  {not (5 > 4)}\")\n",
    "print(f\"(5 > 4) or (3 == 5) :  {(5 > 4) or (3 == 5)}\")\n",
    "print(f\"not ((5 > 4) or (3 == 5)) :  {not ((5 > 4) or (3 == 5))}\")\n",
    "print(\n",
    "    f\"(True and True) and (True == False) :  {(True and True) and (True == False)}\")\n",
    "print(f\"(not False) or (not True) :  {(not False) or (not True)}\")\n"
   ]
  },
  {
   "cell_type": "markdown",
   "metadata": {},
   "source": [
    "## 5. What are the six comparison operators?\n",
    "\n",
    "### Answer:\n",
    "\n",
    "The Six comparision operators available in python are:  `==` , `!=` , `<` , `>` , `<=` , `=>`\n",
    "\n",
    "1. `==`  :  Equal to Operator\n",
    "2. `!=`  :  Not Equal to Operator\n",
    "\n",
    "3. `<` :  Less than Operator\n",
    "4. `>` :  Greater than Operator\n",
    "\n",
    "5. `<=` :  Less than or Equal to Operator\n",
    "6. `>=` :  Greater than or Equal to Operator"
   ]
  },
  {
   "cell_type": "code",
   "execution_count": 12,
   "metadata": {},
   "outputs": [
    {
     "name": "stdout",
     "output_type": "stream",
     "text": [
      "False\n",
      "True\n",
      "True\n",
      "False\n",
      "False\n",
      "True\n"
     ]
    }
   ],
   "source": [
    "print(True > True) \n",
    "print(True >= True) \n",
    "print(10 > True) \n",
    "print(False > True) \n",
    "print(False == True)\n",
    "print(False != True)"
   ]
  },
  {
   "cell_type": "markdown",
   "metadata": {},
   "source": [
    "## 6. How do you tell the difference between the equal to and assignment operators? Describe a condition and when you would use one ? \n",
    "\n",
    "### Answer:\n",
    "\n",
    "`==` is an equality Operator that compares two values and evaluates and returns a Boolean return true if both have same vale else false if different, \n",
    "\n",
    "while `=` is that assignment operator that stores a value in a variable.\n"
   ]
  },
  {
   "cell_type": "code",
   "execution_count": 17,
   "metadata": {},
   "outputs": [
    {
     "name": "stdout",
     "output_type": "stream",
     "text": [
      "True\n",
      "False\n",
      "10\n",
      "True\n"
     ]
    }
   ],
   "source": [
    "# == \n",
    "print(True == True)\n",
    "print(True == False)\n",
    "\n",
    "#  = \n",
    "a=10\n",
    "print(a)\n",
    "\n",
    "print(a==10)\n",
    "\n",
    "# print(a=10)"
   ]
  },
  {
   "cell_type": "markdown",
   "metadata": {},
   "source": [
    "## 7. Identify the three blocks in this code:\n",
    "\n",
    "\n",
    "### Answer:\n",
    "\n",
    "```python\n",
    "spam = 0\n",
    "if spam == 10: # This is a block 1 start\n",
    "    print('eggs')   \n",
    "    if spam > 5:    # This is a block 2 \n",
    "        print('bacon')\n",
    "    else:            # This is a block 3 \n",
    "        print('ham')\n",
    "    print('spam')\n",
    "print('spam') # This is a block 1 end\n",
    "\n",
    "```"
   ]
  },
  {
   "cell_type": "markdown",
   "metadata": {},
   "source": [
    "## 8. Write code that prints Hello if 1 is stored in spam, prints Howdy if 2 is stored in spam, and prints Greetings! if anything else is stored in spam.\n",
    "\n",
    "\n",
    "### Answer:"
   ]
  },
  {
   "cell_type": "code",
   "execution_count": 19,
   "metadata": {},
   "outputs": [
    {
     "name": "stdout",
     "output_type": "stream",
     "text": [
      "Greetings!\n"
     ]
    }
   ],
   "source": [
    "spam = int(input(\"Enter a number: \"))\n",
    "\n",
    "if spam == 1:    # prints Hello if 1 is stored in spam\n",
    "    print(\"Hello\")\n",
    "elif spam == 2:   # prints Howdy if 2 is stored in spam\n",
    "    print('Howdy')\n",
    "else:                  # prints Greetings! if none of the above conditions are true\n",
    "    print('Greetings!')\n"
   ]
  },
  {
   "cell_type": "markdown",
   "metadata": {},
   "source": [
    "## 9. If your programme is stuck in an endless loop, what keys you’ll press?\n",
    "\n",
    "\n",
    "### Answer:\n",
    "\n",
    "* In jupyter we can stop kernal.\n",
    "* In CLI press `Ctrl+C`\n",
    "\n",
    "Sample Code:\n",
    "\n",
    "```python\n",
    "\n",
    "while True:\n",
    "    print('Hello')\n",
    "\n",
    "```\n"
   ]
  },
  {
   "cell_type": "code",
   "execution_count": null,
   "metadata": {},
   "outputs": [],
   "source": [
    "# Try to avoid this\n",
    "# while True:\n",
    "#     print('Hello')\n"
   ]
  },
  {
   "cell_type": "markdown",
   "metadata": {},
   "source": [
    "## 10. How can you tell the difference between break and continue?\n",
    "\n",
    "### Answer:\n",
    "\n",
    "The `break` statement will end the execution of the loop and move the code flow to out . \n",
    "\n",
    "The `continue` statement will skip the current iteration and move to the next step of iteration and continues."
   ]
  },
  {
   "cell_type": "code",
   "execution_count": 22,
   "metadata": {},
   "outputs": [
    {
     "name": "stdout",
     "output_type": "stream",
     "text": [
      "Demo  of break\n",
      "\n",
      "1 2 3 4 \n",
      "Demo  of continue\n",
      "\n",
      "1 3 5 7 9 "
     ]
    }
   ],
   "source": [
    "temp_list = [1, 2, 3, 4, 5, 6, 7, 8, 9, 10]\n",
    "\n",
    "print('Demo  of break\\n')\n",
    "for i in temp_list:\n",
    "    if i == 5:\n",
    "        break\n",
    "    else:\n",
    "        print(i, end=\" \")\n",
    "\n",
    "\n",
    "print('\\nDemo  of continue\\n')\n",
    "for i in temp_list:\n",
    "    if i % 2 == 0:\n",
    "        continue\n",
    "    else:\n",
    "        print(i, end=\" \")\n"
   ]
  },
  {
   "cell_type": "markdown",
   "metadata": {},
   "source": [
    "## 11. In a for loop, what is the difference between range(10), range(0, 10), and range(0, 10, 1)?\n",
    "\n",
    "### Answer:\n",
    "\n",
    "`range(initial, final, step)`\n",
    "\n",
    "\n",
    "if No start value is provided 0 is considered as the initial start\n",
    "\n",
    "Also, is step value is provided default 1 is considered as the step value\n",
    "\n",
    "* Functionality wise in this perticular scenario there is no difference.\n",
    "\n",
    "`range(10)` : `range(final)` if 1 input are provided to the range parameter , range from 0 to 9 (does not includes 10)  \n",
    "\n",
    "`range(0,10)` : `range(initial, final)` if 2 inputs are provided to the range parameter, to start at 0 and end at 9 (does not includes 10)\n",
    "\n",
    "`range(0,10,1)` : `range(initial_Value, final, step)` if 3 inputs are provided to the range parameter , to start at 0 and end at 9 (does not includes 10) and step is 1 (skip by 1).\n",
    "\n",
    "    \n",
    "    \n",
    "    \n",
    "   "
   ]
  },
  {
   "cell_type": "markdown",
   "metadata": {},
   "source": [
    "## 12. Write a short program that prints the numbers 1 to 10 using a for loop. Then write an equivalent program that prints the numbers 1 to 10 using a while loop ? \n",
    "\n",
    "### Answer:\n"
   ]
  },
  {
   "cell_type": "code",
   "execution_count": 25,
   "metadata": {},
   "outputs": [
    {
     "name": "stdout",
     "output_type": "stream",
     "text": [
      "\n",
      "Demo  of for loop\n",
      "\n",
      "1 2 3 4 5 6 7 8 9 10 \n",
      "Demo  of while loop\n",
      "\n",
      "1 2 3 4 5 6 7 8 9 10 "
     ]
    }
   ],
   "source": [
    "#  For Loop\n",
    "print('\\nDemo  of for loop\\n')\n",
    "for i in range(10):\n",
    "    print(i+1, end=\" \")\n",
    "\n",
    "\n",
    "# While Loop\n",
    "print('\\nDemo  of while loop\\n')\n",
    "i=0\n",
    "while i<10:\n",
    "    print(i+1, end=\" \")\n",
    "    i+=1"
   ]
  },
  {
   "cell_type": "markdown",
   "metadata": {},
   "source": [
    "## 13. If you had a function named bacon() inside a module named spam, how would you call it after importing spam ?\n",
    "\n",
    "### Answer:\n",
    "\n",
    "```python\n",
    "from spam import bacon # by defining the module name and function name \n",
    "\n",
    "ba = bacon()\n",
    "\n",
    "# or\n",
    "\n",
    "import spam # only by importing the module\n",
    "\n",
    "\n",
    "spam.bacon()\n",
    "```"
   ]
  }
 ],
 "metadata": {
  "interpreter": {
   "hash": "31f2aee4e71d21fbe5cf8b01ff0e069b9275f58929596ceb00d14d90e3e16cd6"
  },
  "kernelspec": {
   "display_name": "Python 3.6.9 64-bit",
   "language": "python",
   "name": "python3"
  },
  "language_info": {
   "codemirror_mode": {
    "name": "ipython",
    "version": 3
   },
   "file_extension": ".py",
   "mimetype": "text/x-python",
   "name": "python",
   "nbconvert_exporter": "python",
   "pygments_lexer": "ipython3",
   "version": "3.6.9"
  },
  "orig_nbformat": 4
 },
 "nbformat": 4,
 "nbformat_minor": 2
}
