{
 "cells": [
  {
   "cell_type": "markdown",
   "metadata": {},
   "source": [
    "# Assignment 6"
   ]
  },
  {
   "cell_type": "markdown",
   "metadata": {},
   "source": [
    "## 1. What are Escape characters ? and how do you use them ?\n",
    "\n",
    "### Answer :  \n",
    "\n",
    "Escape characters represent characters in string values that would otherwise be difficult or impossible to type into code or illegal in string. we can use the backslash `character` to escape a single character or symbol  \n",
    "\n",
    "\n",
    "**example:** \n",
    "1. `\\n` : New Line\n",
    "2. `\\t` : Horizontal Tab\n",
    "3. `\\r` : Carriage Return\n",
    "4. `\\b` : Back Space\n",
    "5. `\\f` : Form Feed\n",
    "6. `\\v` : Vertical Tab\n",
    "7. `\\'` : Single Quote\n",
    "8. `\\\"` : Double Quote\n",
    "9. `\\\\` : Back Slash Symbol"
   ]
  },
  {
   "cell_type": "code",
   "execution_count": 19,
   "metadata": {},
   "outputs": [
    {
     "name": "stdout",
     "output_type": "stream",
     "text": [
      "And the winner is\t \"Hari\"\n"
     ]
    }
   ],
   "source": [
    "# example:\n",
    "print(\"And the winner is\\t \\\"Hari\\\"\")\n"
   ]
  },
  {
   "cell_type": "markdown",
   "metadata": {},
   "source": [
    "## 2. What do the escape characters n and t stand for ?\n",
    "\n",
    "### Answer :  \n",
    "\n",
    "1. `\\n` : New Line\n",
    "2. `\\t` : Horizontal Tab"
   ]
  },
  {
   "cell_type": "code",
   "execution_count": 20,
   "metadata": {},
   "outputs": [
    {
     "name": "stdout",
     "output_type": "stream",
     "text": [
      "And the winner is\t\n",
      " \"Hari\"\n"
     ]
    }
   ],
   "source": [
    "# example:\n",
    "print(\"And the winner is\\t\\n \\\"Hari\\\"\")\n"
   ]
  },
  {
   "cell_type": "markdown",
   "metadata": {},
   "source": [
    "## 3. What is the way to include backslash character in a string?\n",
    "\n",
    "### Answer :  \n",
    "\n",
    "The `\\\\` escape character will represent the backslash character in a string\n",
    "\n",
    "`\\\\` : Back Slash Symbol"
   ]
  },
  {
   "cell_type": "code",
   "execution_count": 21,
   "metadata": {},
   "outputs": [
    {
     "name": "stdout",
     "output_type": "stream",
     "text": [
      "INeuron's course is best\n",
      "This is example of \\' backslash\n"
     ]
    }
   ],
   "source": [
    "# print('INeuron's course is best') # error\n",
    "\n",
    "print('INeuron\\'s course is best')  # Success\n",
    "\n",
    "print(\"This is example of \\\\' backslash\")\n"
   ]
  },
  {
   "cell_type": "markdown",
   "metadata": {},
   "source": [
    "## 4. The string \"Howl's Moving Castle\" is a correct value. Why isn't the single quote character in the word Howl's not escaped a problem ?\n",
    "\n",
    "### Answer :  \n",
    "\n",
    "The string `\"Howl's Moving Castle\"` escaped the problem because it is wrapped inside double quotes. if its wrapped inside single quotes then we have to use escape character `\\'` to show single quote in the final output  `'Howl\\'s Moving Castle'`"
   ]
  },
  {
   "cell_type": "code",
   "execution_count": 22,
   "metadata": {},
   "outputs": [
    {
     "name": "stdout",
     "output_type": "stream",
     "text": [
      "Howl's Moving Castle\n",
      "Howl's Moving Castle\n"
     ]
    }
   ],
   "source": [
    "# print('Howl's Moving Castle') # error\n",
    "\n",
    "print(\"Howl's Moving Castle\")  # Success\n",
    "\n",
    "print('Howl\\'s Moving Castle')\n"
   ]
  },
  {
   "cell_type": "markdown",
   "metadata": {},
   "source": [
    "## 5. How do you write a string of newlines if you don't want to use the n character?\n",
    "\n",
    "### Answer :   \n",
    "\n",
    "Multiline string allow you to use newlines in string without the `\\n` escape character  "
   ]
  },
  {
   "cell_type": "code",
   "execution_count": 23,
   "metadata": {},
   "outputs": [
    {
     "name": "stdout",
     "output_type": "stream",
     "text": [
      "hello\n",
      "world\n",
      "hello\n",
      "world\n",
      "hello\n"
     ]
    }
   ],
   "source": [
    "# Example:\n",
    "# 1\n",
    "demo_str = '''hello\n",
    "world'''\n",
    "print(demo_str)\n",
    "#2\n",
    "print(\"hello\")\n",
    "print(\"world\")\n",
    "\n",
    "# 3\n",
    "\n",
    "print(\"hello\", end=\"\\n\")\n"
   ]
  },
  {
   "cell_type": "markdown",
   "metadata": {},
   "source": [
    "## 6. What are the values of the given expressions ?\n",
    "```python\n",
    "'Hello, world!'[1]  \n",
    "'Hello, world!'[0:5]  \n",
    "'Hello, world!'[:5]  \n",
    "'Hello, world!'[3:]  \n",
    "```\n",
    "\n",
    "### Answer :  \n",
    "\n",
    "The values for the given expressions are:  \n",
    "`'Hello, world!'[1]` :  `'e'`  \n",
    "`'Hello, world!'[0:5]` :  `'Hello'`  \n",
    "`'Hello, world!'[:5]` :  `'Hello'`  \n",
    "`'Hello, world!'[3:]` :  `'lo, world!'`"
   ]
  },
  {
   "cell_type": "code",
   "execution_count": 24,
   "metadata": {},
   "outputs": [
    {
     "name": "stdout",
     "output_type": "stream",
     "text": [
      "e\n",
      "Hello\n",
      "Hello\n",
      "lo, world!\n"
     ]
    }
   ],
   "source": [
    "print('Hello, world!'[1])\n",
    "print('Hello, world!'[0:5])\n",
    "print('Hello, world!'[:5])\n",
    "print('Hello, world!'[3:])\n"
   ]
  },
  {
   "cell_type": "markdown",
   "metadata": {},
   "source": [
    "## 7. What are the values of the following expressions ?\n",
    "\n",
    "```python\n",
    "'Hello'.upper()  \n",
    "'Hello'.upper().isupper()  \n",
    "'Hello'.upper().lower()\n",
    "```    \n",
    "\n",
    "### Answer :  \n",
    "\n",
    "The values for the given expressions are:  \n",
    "`'Hello'.upper()` : `'HELLO'`  \n",
    "`'Hello'.upper().isupper()` :  `True`    \n",
    "`'Hello'.upper().lower()` : `'hello'`"
   ]
  },
  {
   "cell_type": "code",
   "execution_count": 25,
   "metadata": {},
   "outputs": [
    {
     "name": "stdout",
     "output_type": "stream",
     "text": [
      "HELLO\n",
      "True\n",
      "hello\n"
     ]
    }
   ],
   "source": [
    "print('Hello'.upper())\n",
    "print('Hello'.upper().isupper())\n",
    "print('Hello'.upper().lower())\n"
   ]
  },
  {
   "cell_type": "markdown",
   "metadata": {},
   "source": [
    "## 8. What are the values of the following expressions ?\n",
    "\n",
    "```python\n",
    "'Remember, remember, the fifith of July.'.split()  \n",
    "-'.join('There can only one'.split())\n",
    "```\n",
    "\n",
    "### Answer :  The values for the given expressions are:  \n",
    "`'Remember, remember, the fifith of July.'.split()`  : `['Remember,', 'remember,', 'the', 'fifith', 'of', 'July.']`  \n",
    "`'-'.join('There can only one'.split())` : `'There-can-only-one'` "
   ]
  },
  {
   "cell_type": "code",
   "execution_count": 26,
   "metadata": {},
   "outputs": [
    {
     "name": "stdout",
     "output_type": "stream",
     "text": [
      "['Remember,1', 'remember,2', 'the', 'fifth', 'of', 'July.']\n"
     ]
    },
    {
     "data": {
      "text/plain": [
       "'There-can-only-one.'"
      ]
     },
     "execution_count": 26,
     "metadata": {},
     "output_type": "execute_result"
    }
   ],
   "source": [
    "print('Remember,1 remember,2 the fifth of July.'.split())\n",
    "\n",
    "# This will split() the string into list with space as a delimeter\n",
    "'-'.join('There can only one.'.split())\n",
    "#  First split() the string into list with space as a delimeter\n",
    "#  '-' will be combined in list in place of delimeter\n"
   ]
  },
  {
   "cell_type": "markdown",
   "metadata": {},
   "source": [
    "## 9.What are the methods for right-justifying, left-justifying and centering a string ?\n",
    "\n",
    "\n",
    "### Answer :  \n",
    "\n",
    "The `rjust()`,`ljust()`,`center()` string methods,for right-justifying, left-justifying and centering a string respectively."
   ]
  },
  {
   "cell_type": "code",
   "execution_count": 27,
   "metadata": {},
   "outputs": [
    {
     "name": "stdout",
     "output_type": "stream",
     "text": [
      "iNeuirons-----------\n",
      "-----------iNeuirons\n",
      "-----iNeuirons------\n"
     ]
    }
   ],
   "source": [
    "# Left Justifying\n",
    "demo_str = 'iNeuirons'\n",
    "print(demo_str.ljust(20, '-'))\n",
    "print(demo_str.rjust(20, '-'))\n",
    "print(demo_str.center(20, '-'))"
   ]
  },
  {
   "cell_type": "markdown",
   "metadata": {},
   "source": [
    "## 10.What is the best way to remove whitespace characters from the start or end ?\n",
    "\n",
    "### Answer : \n",
    "\n",
    "The `lstrip()` and `rstrip()` methods remove whitesapce characters from the left and right ends of a string respectively"
   ]
  },
  {
   "cell_type": "code",
   "execution_count": 28,
   "metadata": {},
   "outputs": [
    {
     "name": "stdout",
     "output_type": "stream",
     "text": [
      "Left Strip: iNeuirons    \n",
      "Right Strip:     iNeuirons\n"
     ]
    }
   ],
   "source": [
    "str1 = '    iNeuirons    '\n",
    "\n",
    "l = str1.lstrip()\n",
    "r = str1.rstrip()\n",
    "print(f'Left Strip: {l}')\n",
    "print(f'Right Strip: {r}')"
   ]
  }
 ],
 "metadata": {
  "kernelspec": {
   "display_name": "Python 3",
   "language": "python",
   "name": "python3"
  },
  "language_info": {
   "codemirror_mode": {
    "name": "ipython",
    "version": 3
   },
   "file_extension": ".py",
   "mimetype": "text/x-python",
   "name": "python",
   "nbconvert_exporter": "python",
   "pygments_lexer": "ipython3",
   "version": "3.6.9"
  }
 },
 "nbformat": 4,
 "nbformat_minor": 4
}
