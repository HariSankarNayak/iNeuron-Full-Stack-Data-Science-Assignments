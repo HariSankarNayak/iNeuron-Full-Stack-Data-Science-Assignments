{
 "cells": [
  {
   "cell_type": "markdown",
   "id": "5e4896b3",
   "metadata": {},
   "source": [
    "# Assignment 9"
   ]
  },
  {
   "cell_type": "markdown",
   "id": "7a719726",
   "metadata": {},
   "source": [
    "## 1.To what does a relative path refer ?\n",
    "\n",
    "### Answer :\n",
    "\n",
    "The relative path is the path to target file with respect to current working directory or Print work directory (PWD).  \n",
    "**example:** if Absolute path to this note is: `/home/harisankarnayak/SelfProject/iNeuronAssignmentsCollection/iNeuron-Full-Stack-Data-Science-Assignments/Python Basic Assignment/009.Assignment_9.ipynb`\n",
    "\n",
    "If my PWD is `/home/harisankarnayak/SelfProject/iNeuronAssignmentsCollection/` , then the relative path to `.gitkeep` would be: `Python Programming Basic Assignment/.gitkeep` and wrt to PWD it would be: `../Python Programming Basic Assignment/.gitkeep`\n",
    "\n",
    "**Note:** Print work directory + relative path = absolute path\n"
   ]
  },
  {
   "cell_type": "code",
   "execution_count": 19,
   "id": "695cca60",
   "metadata": {},
   "outputs": [
    {
     "name": "stdout",
     "output_type": "stream",
     "text": [
      "/home/harisankarnayak/SelfProject/iNeuronAssignmentsCollection/iNeuron-Full-Stack-Data-Science-Assignments/Python Basic Assignment\n"
     ]
    },
    {
     "data": {
      "text/plain": [
       "'../Python Programming Basic Assignment/.gitkeep'"
      ]
     },
     "execution_count": 19,
     "metadata": {},
     "output_type": "execute_result"
    }
   ],
   "source": [
    "import os\n",
    "print(os.getcwd())  # Prints the current Working Directory\n",
    "path = '/home/harisankarnayak/SelfProject/iNeuronAssignmentsCollection/iNeuron-Full-Stack-Data-Science-Assignments/Python Programming Basic Assignment/.gitkeep'\n",
    "os.path.relpath(path)\n"
   ]
  },
  {
   "cell_type": "markdown",
   "id": "1e5a7601",
   "metadata": {},
   "source": [
    "## 2.Where does an absolute path start with your Operating System ?\n",
    "\n",
    "### Answer :\n",
    "\n",
    "Absolute path always starts with rootdi directory.\n",
    "In Linux based systems the absolute path starts with `/` **(Mine)** . Where as in Windows based systems absolute path starts with `C://`\n"
   ]
  },
  {
   "cell_type": "code",
   "execution_count": 20,
   "id": "75d69d77",
   "metadata": {},
   "outputs": [
    {
     "data": {
      "text/plain": [
       "'/home/harisankarnayak/SelfProject/iNeuronAssignmentsCollection/iNeuron-Full-Stack-Data-Science-Assignments/Python Programming Basic Assignment/.gitkeep'"
      ]
     },
     "execution_count": 20,
     "metadata": {},
     "output_type": "execute_result"
    }
   ],
   "source": [
    "os.path.abspath(path)\n",
    "# /home"
   ]
  },
  {
   "cell_type": "markdown",
   "id": "20cf4bf7",
   "metadata": {},
   "source": [
    "## 3.What does the functions `os.getcwd()` and `os.chdir()` do ?\n",
    "\n",
    "### Answer :\n",
    "\n",
    "`os.getcwd()` method tells us the location of current working directory (CWD).\n",
    "`os.chdir()` method in Python used to change the current working directory to specified path.\n",
    "\n",
    "These functions are similar to linux commands `pwd` and `cd`\n"
   ]
  },
  {
   "cell_type": "code",
   "execution_count": 21,
   "id": "b45b79f1",
   "metadata": {},
   "outputs": [
    {
     "name": "stdout",
     "output_type": "stream",
     "text": [
      "/home/harisankarnayak/SelfProject/iNeuronAssignmentsCollection/iNeuron-Full-Stack-Data-Science-Assignments/Python Basic Assignment\n",
      "/home/harisankarnayak/SelfProject\n"
     ]
    }
   ],
   "source": [
    "import os\n",
    "print(os.getcwd()) # Prints the current Working Directory\n",
    "path = r'/home/harisankarnayak/SelfProject'\n",
    "os.chdir(path)\n",
    "print(os.getcwd())\n"
   ]
  },
  {
   "cell_type": "markdown",
   "id": "ef89a436",
   "metadata": {},
   "source": [
    "## 4.What are `.` and `..` folders ?\n",
    "\n",
    "### Answer :\n",
    "\n",
    "`.` Represents the Current Directory Whereas `..` Represents the Parent Directory of the Current Directory  \n",
    "**For Example:**\n",
    "if the below path is my absolute path:  \n",
    "`/home/harisankarnayak/SelfProject/iNeuronAssignmentsCollection/iNeuron-Full-Stack-Data-Science-Assignments/Python Basic Assignment`  \n",
    "Then `.` represents the path `/home/harisankarnayak/SelfProject/iNeuronAssignmentsCollection/iNeuron-Full-Stack-Data-Science-Assignments/Python Basic Assignment`  \n",
    "Where as `..` represents the path `/home/harisankarnayak/SelfProject/iNeuronAssignmentsCollection/iNeuron-Full-Stack-Data-Science-Assignments/`\n"
   ]
  },
  {
   "cell_type": "code",
   "execution_count": 22,
   "id": "3d935f00",
   "metadata": {},
   "outputs": [
    {
     "name": "stdout",
     "output_type": "stream",
     "text": [
      ". Folder Path:\n",
      "/home/harisankarnayak/SelfProject/iNeuronAssignmentsCollection/iNeuron-Full-Stack-Data-Science-Assignments/Python Basic Assignment\n",
      "\n",
      ".. Folder Path:\n",
      "/home/harisankarnayak/SelfProject/iNeuronAssignmentsCollection/iNeuron-Full-Stack-Data-Science-Assignments\n"
     ]
    }
   ],
   "source": [
    "path = r'/home/harisankarnayak/SelfProject/iNeuronAssignmentsCollection/iNeuron-Full-Stack-Data-Science-Assignments/Python Basic Assignment'\n",
    "os.chdir(path)\n",
    "print(f\". Folder Path:\\n{os.path.abspath('.')}\")\n",
    "print(f\"\\n.. Folder Path:\\n{os.path.abspath('..')}\")\n"
   ]
  },
  {
   "cell_type": "markdown",
   "id": "dc9559e2",
   "metadata": {},
   "source": [
    "## 5.In `C:\\bacon\\eggs\\spam.txt` which part is the dir name and which part is the base name ?\n",
    "\n",
    "### Answer :\n",
    "\n",
    "For `C:\\bacon\\eggs\\spam.txt`  \n",
    "The dir name is `C:\\\\bacon\\\\eggs`  \n",
    "The Base name is `spam.txt`\n"
   ]
  },
  {
   "cell_type": "code",
   "execution_count": 23,
   "id": "3e63e793",
   "metadata": {},
   "outputs": [
    {
     "name": "stdout",
     "output_type": "stream",
     "text": [
      "home/harisankarnayak/SelfProject/bacon/eggs\n",
      "spam.txt\n"
     ]
    }
   ],
   "source": [
    "import os\n",
    "# path = r'C:\\bacon\\eggs\\spam.txt' #for windows\n",
    "path = r'home/harisankarnayak/SelfProject/bacon/eggs/spam.txt'  # for linuz\n",
    "print(os.path.dirname(path))\n",
    "print(os.path.basename(path))\n"
   ]
  },
  {
   "cell_type": "markdown",
   "id": "edb97d1b",
   "metadata": {},
   "source": [
    "## 6. What are the three `mode` arguments that can be passed to the `open()` function?\n",
    "\n",
    "### Answer :\n",
    "\n",
    "A file can be Accessed in python using `open()` function. open function takes two arguments filename and mode of operation (optional). if mode is not provided the default mode of opening is `read` mode  \n",
    "So, the syntax being: `open(filename, mode)`\n",
    "\n",
    "- `‘r’` – Read Mode: This is the default mode for open(). The file is opened and a pointer is positioned at the beginning of the file’s content.\n",
    "- `‘r+’` – Read/Write Mode: Use this mode if you need to simultaneously read and write to a file.\n",
    "- `'rb'` - Only for reading in a binary format. The pointer is located at the start of file and it’s a default mode.\n",
    "- `'rb+'` For the both writing and reading operation in binary format. The pointer is located at the start of file.\n",
    "- `‘w’` – Write Mode: Using this mode will overwrite any existing content in a file. If the given file does not exist, a new one will be created.\n",
    "- `'w+'` For the both writing and reading operation. Check for existing file, if its present overwrites in the exists file. If there is no any existing file then, makes a novel file for the writing and reading.\n",
    "- `'wb'` Only for writing in a binary format. Check for existing file, if its present overwrites in the exists file. If there is no any existing file\n",
    "- `'wb+'` For the both writing and reading operation in binary format. Check for existing file, if its present overwrites in the exists file. If there is no any existing file then, makes a novel file for the writing and reading.\n",
    "\n",
    "- `‘a’` – Append Mode: With this mode the user can append the data without overwriting any already existing data in the file.\n",
    "- `‘a+’` – Append and Read Mode: In this mode you can read and append the data without overwriting the original file.\n",
    "- `‘x’` – Exclusive Creating Mode: This mode is for the sole purpose of creating new files. Use this mode if you know the file to be written doesn’t exist beforehand.\n"
   ]
  },
  {
   "cell_type": "markdown",
   "id": "a6250b7d",
   "metadata": {},
   "source": [
    "## 7.What happens if an existing file is opened in write mode ?\n",
    "\n",
    "### Answer :\n",
    "\n",
    "Using this mode will overwrite any existing content in a file. If the given file does not exist, a new one will be created.\n"
   ]
  },
  {
   "cell_type": "markdown",
   "id": "e76da392",
   "metadata": {},
   "source": [
    "## 8.How do you tell the difference between `read()` and `readlines()` ?\n",
    "\n",
    "### Answer :\n",
    "\n",
    "The main difference is that `read()` will read the whole file at once and then print out the first characters that take up as many bytes as you specify in the parenthesis . Whereas the `readline()` that will read and print out only the first characters that take up as many bytes as you specify in the parenthesis. You may want to use readline() when you're reading files that are too big for your RAM.\n",
    "\n",
    "- The `read()` would treat each character in the file separately, meaning that the iteration would happen for every character.\n",
    "- The `readline()` function, on the other hand, only reads a single line of the file. This means that if the first line of the file were three lines long, the readline() function would only parse (or iterate/operate) on the first line of the file.\n"
   ]
  },
  {
   "cell_type": "code",
   "execution_count": 24,
   "id": "d5ff394c",
   "metadata": {},
   "outputs": [
    {
     "data": {
      "text/plain": [
       "'lorem ipsum dolor sit amet, consectetur adipiscing elit, sed do eiusmod tempor incididunt ut labore et dolore magna aliqua. Ut enim ad minim veniam, quis nostrud exercitation ullamco laboris nisi ut aliquip ex ea commodo consequat. Duis aute irure dolor in reprehenderit in voluptate velit esse cillum dolore eu fugiat nulla pariatur. \\nExcepteur sint occaecat cupidatat non proident, sunt in culpa qui officia deserunt mollit anim id est laborum.'"
      ]
     },
     "execution_count": 24,
     "metadata": {},
     "output_type": "execute_result"
    }
   ],
   "source": [
    "demo_file = open('demo.txt')\n",
    "demo_file.read()\n"
   ]
  },
  {
   "cell_type": "code",
   "execution_count": 25,
   "id": "decf17ee",
   "metadata": {},
   "outputs": [
    {
     "data": {
      "text/plain": [
       "['lorem ipsum dolor sit amet, consectetur adipiscing elit, sed do eiusmod tempor incididunt ut labore et dolore magna aliqua. Ut enim ad minim veniam, quis nostrud exercitation ullamco laboris nisi ut aliquip ex ea commodo consequat. Duis aute irure dolor in reprehenderit in voluptate velit esse cillum dolore eu fugiat nulla pariatur. \\n',\n",
       " 'Excepteur sint occaecat cupidatat non proident, sunt in culpa qui officia deserunt mollit anim id est laborum.']"
      ]
     },
     "execution_count": 25,
     "metadata": {},
     "output_type": "execute_result"
    }
   ],
   "source": [
    "demo_file = open('demo.txt')\n",
    "demo_file.readlines()\n"
   ]
  },
  {
   "cell_type": "markdown",
   "id": "9e161992",
   "metadata": {},
   "source": [
    "## 9.What data structure does a shelf value resemble ?\n",
    "### Answer :  \n",
    "\n",
    "it contains key and values it represents dictionary.\n",
    "Shelf Value resembles like Ductionary Data Structure"
   ]
  }
 ],
 "metadata": {
  "kernelspec": {
   "display_name": "Python 3",
   "language": "python",
   "name": "python3"
  },
  "language_info": {
   "codemirror_mode": {
    "name": "ipython",
    "version": 3
   },
   "file_extension": ".py",
   "mimetype": "text/x-python",
   "name": "python",
   "nbconvert_exporter": "python",
   "pygments_lexer": "ipython3",
   "version": "3.6.9"
  }
 },
 "nbformat": 4,
 "nbformat_minor": 5
}
