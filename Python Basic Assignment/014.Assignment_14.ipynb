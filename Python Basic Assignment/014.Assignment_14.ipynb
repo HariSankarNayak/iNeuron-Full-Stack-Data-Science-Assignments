{
 "cells": [
  {
   "cell_type": "markdown",
   "id": "bb28039f",
   "metadata": {},
   "source": [
    "# Assignment 14 Solutions"
   ]
  },
  {
   "cell_type": "markdown",
   "id": "7c6c3412",
   "metadata": {},
   "source": [
    "## 1. What does RGBA stand for?\n",
    "\n",
    "### Answer :\n",
    "\n",
    "`RGBA` is a four-channel format containing data for `Red`, `Green`, `Blue`, and an `Alpha` value. Where Alpha Represents the Opacity\n"
   ]
  },
  {
   "cell_type": "markdown",
   "id": "39e9a315",
   "metadata": {},
   "source": [
    "## 2. From the Pillow module, how do you get the RGBA value of any images?\n",
    "\n",
    "### Answer :\n",
    "\n",
    "`ImageColor.getcolor()` gives rgba value of any color\n",
    "or\n",
    "`getdata()` is used to get the RGBA value of the image.\n"
   ]
  },
  {
   "cell_type": "code",
   "execution_count": 9,
   "id": "d4cb55c9",
   "metadata": {},
   "outputs": [
    {
     "name": "stdout",
     "output_type": "stream",
     "text": [
      "(255, 255, 0, 255)\n",
      "76\n"
     ]
    }
   ],
   "source": [
    "from PIL import ImageColor\n",
    "print(ImageColor.getcolor('yellow', 'RGBA'))\n",
    "print(ImageColor.getcolor('red', 'L'))\n"
   ]
  },
  {
   "cell_type": "code",
   "execution_count": 10,
   "id": "713ba2f8",
   "metadata": {},
   "outputs": [
    {
     "name": "stdout",
     "output_type": "stream",
     "text": [
      "(227, 226, 222, 255)\n"
     ]
    }
   ],
   "source": [
    "from PIL import Image\n",
    "\n",
    "img = Image.open('image.png')\n",
    "rgba = img.convert('RGBA')\n",
    "rgba_value = rgba.getdata()\n",
    "for i in rgba_value:\n",
    "    print(i)\n",
    "    break\n"
   ]
  },
  {
   "cell_type": "markdown",
   "id": "185bf687",
   "metadata": {},
   "source": [
    "## 3. What is a box tuple, and how does it work?\n",
    "\n",
    "### Answer :\n",
    "\n",
    "A box tuple is a tuple value of four integers: the left-edge x-coordinate, the top-edge y-coordinate,the width, and the height, respectively.\n"
   ]
  },
  {
   "cell_type": "markdown",
   "id": "2dd0185d",
   "metadata": {},
   "source": [
    "## 4. Use your image and load in notebook then, How can you find out the width and height of an Image object?"
   ]
  },
  {
   "cell_type": "code",
   "execution_count": 11,
   "id": "1b9e60eb",
   "metadata": {},
   "outputs": [
    {
     "name": "stdout",
     "output_type": "stream",
     "text": [
      "Width, Height -> (305, 318)\n",
      "Width, Height -> 305,318\n",
      "Width, Height -> 305,318\n"
     ]
    }
   ],
   "source": [
    "#Example Program\n",
    "from PIL import Image\n",
    "imageFileName = input(\"enter the image name with absolute path \")\n",
    "\n",
    "pic = Image.open(imageFileName)\n",
    "print(f'Width, Height -> {pic.size}') # Approach 1\n",
    "print(f'Width, Height -> {pic.width},{pic.height}') # Approach 2\n",
    "width,height = pic.size\n",
    "print(f'Width, Height -> {width},{height}') # Approach 3\n"
   ]
  },
  {
   "cell_type": "markdown",
   "id": "efc289ab",
   "metadata": {},
   "source": [
    "## 5. What method would you call to get Image object for a 100×100 image, excluding the lower-left quarter of it?"
   ]
  },
  {
   "cell_type": "code",
   "execution_count": 12,
   "id": "4a82a38a",
   "metadata": {},
   "outputs": [],
   "source": [
    "from PIL import Image\n",
    "img = Image.open('image.png')\n",
    "# box=(left, upper, right, lower)\n",
    "new_img = img.crop((0, 50, 50, 50))\n"
   ]
  },
  {
   "cell_type": "markdown",
   "id": "0ffd911b",
   "metadata": {},
   "source": [
    "## 6. After making changes to an Image object, how could you save it as an image file?"
   ]
  },
  {
   "cell_type": "code",
   "execution_count": 13,
   "id": "e5939016",
   "metadata": {},
   "outputs": [],
   "source": [
    "\n",
    "from PIL import Image\n",
    "pic = Image.open('image.png')\n",
    "pic.save('image2.png')\n"
   ]
  },
  {
   "cell_type": "markdown",
   "id": "5ad56500",
   "metadata": {},
   "source": [
    "## 7. What module contains Pillow’s shape-drawing code?\n",
    "\n",
    "### Answer :\n",
    "\n",
    "Pillows **`ImageDraw`** module contains Shape drawing methods\n"
   ]
  },
  {
   "cell_type": "code",
   "execution_count": 14,
   "id": "3e714253",
   "metadata": {},
   "outputs": [],
   "source": [
    "from PIL import Image, ImageDraw\n",
    "\n",
    "im = Image.new('RGB', (500, 300), (128, 128, 128))\n",
    "draw = ImageDraw.Draw(im)\n"
   ]
  },
  {
   "cell_type": "markdown",
   "id": "2a09c289",
   "metadata": {},
   "source": [
    "## 8. Image objects do not have drawing methods. What kind of object does? How do you get this kind of object?\n",
    "\n",
    "### Answer :\n",
    "\n",
    "ImageDraw objects have shape-drawing methods such as `point()`, `line()`, or `rectangle()`.They are returned by passing the Image object to the `ImageDraw.Draw()` function.\n"
   ]
  }
 ],
 "metadata": {
  "kernelspec": {
   "display_name": "Python 3",
   "language": "python",
   "name": "python3"
  },
  "language_info": {
   "codemirror_mode": {
    "name": "ipython",
    "version": 3
   },
   "file_extension": ".py",
   "mimetype": "text/x-python",
   "name": "python",
   "nbconvert_exporter": "python",
   "pygments_lexer": "ipython3",
   "version": "3.6.9"
  }
 },
 "nbformat": 4,
 "nbformat_minor": 5
}
